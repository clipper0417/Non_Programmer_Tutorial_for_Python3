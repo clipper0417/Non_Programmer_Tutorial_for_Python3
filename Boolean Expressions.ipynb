{
 "metadata": {
  "name": "",
  "signature": "sha256:36e695f57e3c150767a12e7ab53b9f5bac5bde63d1243d58f54cc1f286b4c647"
 },
 "nbformat": 3,
 "nbformat_minor": 0,
 "worksheets": [
  {
   "cells": [
    {
     "cell_type": "code",
     "collapsed": false,
     "input": [
      "a = 6\n",
      "b = 7\n",
      "c = 42\n",
      "print(1, a == 6)\n",
      "print(2, a == 7)\n",
      "print(3, a == 6 and b == 7)\n",
      "print(4, a == 7 and b == 7)\n",
      "print(5, not a == 7 and b == 7)\n",
      "print(6, a == 7 or b == 7)\n",
      "print(7, a == 7 or b == 6)\n",
      "print(8, not (a == 7 and b == 6))\n",
      "print(9, not a == 7 and b == 6)"
     ],
     "language": "python",
     "metadata": {},
     "outputs": [
      {
       "output_type": "stream",
       "stream": "stdout",
       "text": [
        "1 True\n",
        "2 False\n",
        "3 True\n",
        "4 False\n",
        "5 True\n",
        "6 True\n",
        "7 False\n",
        "8 True\n",
        "9 False\n"
       ]
      }
     ],
     "prompt_number": 1
    },
    {
     "cell_type": "code",
     "collapsed": false,
     "input": [
      "%%html\n",
      "<iframe width=\"800\" height=\"500\" frameborder=\"0\" src=\"http://pythontutor.com/iframe-embed.html#code=a+%3D+6%0D%0Ab+%3D+7%0D%0Ac+%3D+42%0D%0Aprint(1,+a+%3D%3D+6)%0D%0Aprint(2,+a+%3D%3D+7)%0D%0Aprint(3,+a+%3D%3D+6+and+b+%3D%3D+7)%0D%0Aprint(4,+a+%3D%3D+7+and+b+%3D%3D+7)%0D%0Aprint(5,+not+a+%3D%3D+7+and+b+%3D%3D+7)%0D%0Aprint(6,+a+%3D%3D+7+or+b+%3D%3D+7)%0D%0Aprint(7,+a+%3D%3D+7+or+b+%3D%3D+6)%0D%0Aprint(8,+not+(a+%3D%3D+7+and+b+%3D%3D+6))%0D%0Aprint(9,+not+a+%3D%3D+7+and+b+%3D%3D+6)&origin=opt-frontend.js&cumulative=false&heapPrimitives=false&drawParentPointers=false&textReferences=false&showOnlyOutputs=false&py=3&rawInputLstJSON=%5B%5D&curInstr=12&codeDivWidth=350&codeDivHeight=400\"> </iframe>"
     ],
     "language": "python",
     "metadata": {},
     "outputs": [
      {
       "html": [
        "<iframe width=\"800\" height=\"500\" frameborder=\"0\" src=\"http://pythontutor.com/iframe-embed.html#code=a+%3D+6%0D%0Ab+%3D+7%0D%0Ac+%3D+42%0D%0Aprint(1,+a+%3D%3D+6)%0D%0Aprint(2,+a+%3D%3D+7)%0D%0Aprint(3,+a+%3D%3D+6+and+b+%3D%3D+7)%0D%0Aprint(4,+a+%3D%3D+7+and+b+%3D%3D+7)%0D%0Aprint(5,+not+a+%3D%3D+7+and+b+%3D%3D+7)%0D%0Aprint(6,+a+%3D%3D+7+or+b+%3D%3D+7)%0D%0Aprint(7,+a+%3D%3D+7+or+b+%3D%3D+6)%0D%0Aprint(8,+not+(a+%3D%3D+7+and+b+%3D%3D+6))%0D%0Aprint(9,+not+a+%3D%3D+7+and+b+%3D%3D+6)&origin=opt-frontend.js&cumulative=false&heapPrimitives=false&drawParentPointers=false&textReferences=false&showOnlyOutputs=false&py=3&rawInputLstJSON=%5B%5D&curInstr=12&codeDivWidth=350&codeDivHeight=400\"> </iframe>"
       ],
       "metadata": {},
       "output_type": "display_data",
       "text": [
        "<IPython.core.display.HTML at 0x2b77790>"
       ]
      }
     ],
     "prompt_number": 2
    },
    {
     "cell_type": "code",
     "collapsed": false,
     "input": [
      "print(1, a == 6)\n",
      "print(2, a == 7)"
     ],
     "language": "python",
     "metadata": {},
     "outputs": [
      {
       "output_type": "stream",
       "stream": "stdout",
       "text": [
        "1 True\n",
        "2 False\n"
       ]
      }
     ],
     "prompt_number": 3
    },
    {
     "cell_type": "code",
     "collapsed": false,
     "input": [
      "%%html\n",
      "<iframe width=\"800\" height=\"500\" frameborder=\"0\" src=\"http://pythontutor.com/iframe-embed.html#code=print(1,+a+%3D%3D+6)%0D%0Aprint(2,+a+%3D%3D+7)%0D%0A&origin=opt-frontend.js&cumulative=false&heapPrimitives=false&drawParentPointers=false&textReferences=false&showOnlyOutputs=false&py=3&rawInputLstJSON=%5B%5D&curInstr=0&codeDivWidth=350&codeDivHeight=400\"> </iframe>"
     ],
     "language": "python",
     "metadata": {},
     "outputs": [
      {
       "html": [
        "<iframe width=\"800\" height=\"500\" frameborder=\"0\" src=\"http://pythontutor.com/iframe-embed.html#code=print(1,+a+%3D%3D+6)%0D%0Aprint(2,+a+%3D%3D+7)%0D%0A&origin=opt-frontend.js&cumulative=false&heapPrimitives=false&drawParentPointers=false&textReferences=false&showOnlyOutputs=false&py=3&rawInputLstJSON=%5B%5D&curInstr=0&codeDivWidth=350&codeDivHeight=400\"> </iframe>"
       ],
       "metadata": {},
       "output_type": "display_data",
       "text": [
        "<IPython.core.display.HTML at 0x2b777f0>"
       ]
      }
     ],
     "prompt_number": 4
    },
    {
     "cell_type": "code",
     "collapsed": false,
     "input": [
      "list = [\"Life\", \"The Universe\", \"Everything\", \"Jack\", \"Jill\", \"Life\", \"Jill\"]\n",
      " \n",
      "# make a copy of the list. See the More on Lists chapter to explain what [:] means.\n",
      "copy = list[:]\n",
      "# sort the copy\n",
      "copy.sort()\n",
      "prev = copy[0]\n",
      "del copy[0]\n",
      " \n",
      "count = 0\n",
      " \n",
      "# go through the list searching for a match\n",
      "while count < len(copy) and copy[count] != prev:\n",
      "    prev = copy[count]\n",
      "    count = count + 1\n",
      " \n",
      "# If a match was not found then count can't be < len\n",
      "# since the while loop continues while count is < len\n",
      "# and no match is found\n",
      " \n",
      "if count < len(copy):\n",
      "    print(\"First Match:\", prev)"
     ],
     "language": "python",
     "metadata": {},
     "outputs": [
      {
       "output_type": "stream",
       "stream": "stdout",
       "text": [
        "First Match: Jill\n"
       ]
      }
     ],
     "prompt_number": 5
    },
    {
     "cell_type": "code",
     "collapsed": false,
     "input": [
      "%%html\n",
      "<iframe width=\"800\" height=\"500\" frameborder=\"0\" src=\"http://pythontutor.com/iframe-embed.html#code=list+%3D+%5B%22Life%22,+%22The+Universe%22,+%22Everything%22,+%22Jack%22,+%22Jill%22,+%22Life%22,+%22Jill%22%5D%0D%0A+%0D%0A%23+make+a+copy+of+the+list.+See+the+More+on+Lists+chapter+to+explain+what+%5B%3A%5D+means.%0D%0Acopy+%3D+list%5B%3A%5D%0D%0A%23+sort+the+copy%0D%0Acopy.sort()%0D%0Aprev+%3D+copy%5B0%5D%0D%0Adel+copy%5B0%5D%0D%0A+%0D%0Acount+%3D+0%0D%0A+%0D%0A%23+go+through+the+list+searching+for+a+match%0D%0Awhile+count+%3C+len(copy)+and+copy%5Bcount%5D+!%3D+prev%3A%0D%0A++++prev+%3D+copy%5Bcount%5D%0D%0A++++count+%3D+count+%2B+1%0D%0A+%0D%0A%23+If+a+match+was+not+found+then+count+can't+be+%3C+len%0D%0A%23+since+the+while+loop+continues+while+count+is+%3C+len%0D%0A%23+and+no+match+is+found%0D%0A+%0D%0Aif+count+%3C+len(copy)%3A%0D%0A++++print(%22First+Match%3A%22,+prev)%0D%0A&origin=opt-frontend.js&cumulative=false&heapPrimitives=false&drawParentPointers=false&textReferences=false&showOnlyOutputs=false&py=3&rawInputLstJSON=%5B%5D&curInstr=0&codeDivWidth=350&codeDivHeight=400\"> </iframe>"
     ],
     "language": "python",
     "metadata": {},
     "outputs": [
      {
       "html": [
        "<iframe width=\"800\" height=\"500\" frameborder=\"0\" src=\"http://pythontutor.com/iframe-embed.html#code=list+%3D+%5B%22Life%22,+%22The+Universe%22,+%22Everything%22,+%22Jack%22,+%22Jill%22,+%22Life%22,+%22Jill%22%5D%0D%0A+%0D%0A%23+make+a+copy+of+the+list.+See+the+More+on+Lists+chapter+to+explain+what+%5B%3A%5D+means.%0D%0Acopy+%3D+list%5B%3A%5D%0D%0A%23+sort+the+copy%0D%0Acopy.sort()%0D%0Aprev+%3D+copy%5B0%5D%0D%0Adel+copy%5B0%5D%0D%0A+%0D%0Acount+%3D+0%0D%0A+%0D%0A%23+go+through+the+list+searching+for+a+match%0D%0Awhile+count+%3C+len(copy)+and+copy%5Bcount%5D+!%3D+prev%3A%0D%0A++++prev+%3D+copy%5Bcount%5D%0D%0A++++count+%3D+count+%2B+1%0D%0A+%0D%0A%23+If+a+match+was+not+found+then+count+can't+be+%3C+len%0D%0A%23+since+the+while+loop+continues+while+count+is+%3C+len%0D%0A%23+and+no+match+is+found%0D%0A+%0D%0Aif+count+%3C+len(copy)%3A%0D%0A++++print(%22First+Match%3A%22,+prev)%0D%0A&origin=opt-frontend.js&cumulative=false&heapPrimitives=false&drawParentPointers=false&textReferences=false&showOnlyOutputs=false&py=3&rawInputLstJSON=%5B%5D&curInstr=0&codeDivWidth=350&codeDivHeight=400\"> </iframe>"
       ],
       "metadata": {},
       "output_type": "display_data",
       "text": [
        "<IPython.core.display.HTML at 0x2b8d510>"
       ]
      }
     ],
     "prompt_number": 6
    },
    {
     "cell_type": "markdown",
     "metadata": {},
     "source": [
      "examples"
     ]
    },
    {
     "cell_type": "code",
     "collapsed": false,
     "input": [
      "## This program asks a user for a name and a password.\n",
      "# It then checks them to make sure that the user is allowed in.\n",
      " \n",
      "name = input(\"What is your name? \")\n",
      "password = input(\"What is the password? \")\n",
      "if name == \"Josh\" and password == \"Friday\":\n",
      "    print(\"Welcome Josh\")\n",
      "elif name == \"Fred\" and password == \"Rock\":\n",
      "    print(\"Welcome Fred\")\n",
      "else:\n",
      "    print(\"I don't know you.\")"
     ],
     "language": "python",
     "metadata": {},
     "outputs": [
      {
       "name": "stdout",
       "output_type": "stream",
       "stream": "stdout",
       "text": [
        "What is your name? kwj\n"
       ]
      },
      {
       "name": "stdout",
       "output_type": "stream",
       "stream": "stdout",
       "text": [
        "What is the password? 0428\n"
       ]
      },
      {
       "output_type": "stream",
       "stream": "stdout",
       "text": [
        "I don't know you.\n"
       ]
      }
     ],
     "prompt_number": 8
    },
    {
     "cell_type": "code",
     "collapsed": false,
     "input": [
      "%%html\n",
      "<iframe width=\"800\" height=\"500\" frameborder=\"0\" src=\"http://pythontutor.com/iframe-embed.html#code=%23%23+This+program+asks+a+user+for+a+name+and+a+password.%0D%0A%23+It+then+checks+them+to+make+sure+that+the+user+is+allowed+in.%0D%0A+%0D%0Aname+%3D+input(%22What+is+your+name%3F+%22)%0D%0Apassword+%3D+input(%22What+is+the+password%3F+%22)%0D%0Aif+name+%3D%3D+%22Josh%22+and+password+%3D%3D+%22Friday%22%3A%0D%0A++++print(%22Welcome+Josh%22)%0D%0Aelif+name+%3D%3D+%22Fred%22+and+password+%3D%3D+%22Rock%22%3A%0D%0A++++print(%22Welcome+Fred%22)%0D%0Aelse%3A%0D%0A++++print(%22I+don't+know+you.%22)&origin=opt-frontend.js&cumulative=false&heapPrimitives=false&drawParentPointers=false&textReferences=false&showOnlyOutputs=false&py=3&rawInputLstJSON=%5B%22kwj%22,%22Rock%22%5D&curInstr=2&codeDivWidth=350&codeDivHeight=400\"> </iframe>"
     ],
     "language": "python",
     "metadata": {},
     "outputs": [
      {
       "html": [
        "<iframe width=\"800\" height=\"500\" frameborder=\"0\" src=\"http://pythontutor.com/iframe-embed.html#code=%23%23+This+program+asks+a+user+for+a+name+and+a+password.%0D%0A%23+It+then+checks+them+to+make+sure+that+the+user+is+allowed+in.%0D%0A+%0D%0Aname+%3D+input(%22What+is+your+name%3F+%22)%0D%0Apassword+%3D+input(%22What+is+the+password%3F+%22)%0D%0Aif+name+%3D%3D+%22Josh%22+and+password+%3D%3D+%22Friday%22%3A%0D%0A++++print(%22Welcome+Josh%22)%0D%0Aelif+name+%3D%3D+%22Fred%22+and+password+%3D%3D+%22Rock%22%3A%0D%0A++++print(%22Welcome+Fred%22)%0D%0Aelse%3A%0D%0A++++print(%22I+don't+know+you.%22)&origin=opt-frontend.js&cumulative=false&heapPrimitives=false&drawParentPointers=false&textReferences=false&showOnlyOutputs=false&py=3&rawInputLstJSON=%5B%22kwj%22,%22Rock%22%5D&curInstr=2&codeDivWidth=350&codeDivHeight=400\"> </iframe>"
       ],
       "metadata": {},
       "output_type": "display_data",
       "text": [
        "<IPython.core.display.HTML at 0x2b77bb0>"
       ]
      }
     ],
     "prompt_number": 9
    },
    {
     "cell_type": "code",
     "collapsed": false,
     "input": [],
     "language": "python",
     "metadata": {},
     "outputs": []
    }
   ],
   "metadata": {}
  }
 ]
}