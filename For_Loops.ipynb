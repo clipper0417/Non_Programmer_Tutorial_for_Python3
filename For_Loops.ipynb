{
 "metadata": {
  "name": "",
  "signature": "sha256:4e43c2bbe530775f3105d083f5e1da02f5a2b265e88a16a08b39bbd7e5e61c5a"
 },
 "nbformat": 3,
 "nbformat_minor": 0,
 "worksheets": [
  {
   "cells": [
    {
     "cell_type": "markdown",
     "metadata": {},
     "source": [
      "##For Loops"
     ]
    },
    {
     "cell_type": "code",
     "collapsed": false,
     "input": [
      "onetoten = range(1, 11)\n",
      "for count in onetoten:\n",
      "    print(count)"
     ],
     "language": "python",
     "metadata": {},
     "outputs": [
      {
       "output_type": "stream",
       "stream": "stdout",
       "text": [
        "1\n",
        "2\n",
        "3\n",
        "4\n",
        "5\n",
        "6\n",
        "7\n",
        "8\n",
        "9\n",
        "10\n"
       ]
      }
     ],
     "prompt_number": 1
    },
    {
     "cell_type": "code",
     "collapsed": false,
     "input": [
      "%%html\n",
      "<iframe width=\"800\" height=\"500\" frameborder=\"0\" src=\"http://pythontutor.com/iframe-embed.html#code=onetoten+%3D+range(1,+11)%0D%0Afor+count+in+onetoten%3A%0D%0A++++print(count)&origin=opt-frontend.js&cumulative=false&heapPrimitives=false&drawParentPointers=false&textReferences=false&showOnlyOutputs=false&py=3&rawInputLstJSON=%5B%5D&curInstr=7&codeDivWidth=350&codeDivHeight=400\"> </iframe>"
     ],
     "language": "python",
     "metadata": {},
     "outputs": [
      {
       "html": [
        "<iframe width=\"800\" height=\"500\" frameborder=\"0\" src=\"http://pythontutor.com/iframe-embed.html#code=onetoten+%3D+range(1,+11)%0D%0Afor+count+in+onetoten%3A%0D%0A++++print(count)&origin=opt-frontend.js&cumulative=false&heapPrimitives=false&drawParentPointers=false&textReferences=false&showOnlyOutputs=false&py=3&rawInputLstJSON=%5B%5D&curInstr=7&codeDivWidth=350&codeDivHeight=400\"> </iframe>"
       ],
       "metadata": {},
       "output_type": "display_data",
       "text": [
        "<IPython.core.display.HTML at 0x2c77a90>"
       ]
      }
     ],
     "prompt_number": 2
    },
    {
     "cell_type": "code",
     "collapsed": false,
     "input": [
      "for count in range(1, 11):\n",
      "    print(count)"
     ],
     "language": "python",
     "metadata": {},
     "outputs": [
      {
       "output_type": "stream",
       "stream": "stdout",
       "text": [
        "1\n",
        "2\n",
        "3\n",
        "4\n",
        "5\n",
        "6\n",
        "7\n",
        "8\n",
        "9\n",
        "10\n"
       ]
      }
     ],
     "prompt_number": 3
    },
    {
     "cell_type": "code",
     "collapsed": false,
     "input": [
      ">>> range(1, 10)\n",
      "range(1, 10)\n",
      ">>> list(range(1, 10))\n",
      "[1, 2, 3, 4, 5, 6, 7, 8, 9]\n",
      ">>> list(range(-32, -20))\n",
      "[-32, -31, -30, -29, -28, -27, -26, -25, -24, -23, -22, -21]\n",
      ">>> list(range(5,21))\n",
      "[5, 6, 7, 8, 9, 10, 11, 12, 13, 14, 15, 16, 17, 18, 19, 20]\n",
      ">>> list(range(5))\n",
      "[0, 1, 2, 3, 4]\n",
      ">>> list(range(21, 5))\n",
      "[]"
     ],
     "language": "python",
     "metadata": {},
     "outputs": [
      {
       "metadata": {},
       "output_type": "pyout",
       "prompt_number": 4,
       "text": [
        "[]"
       ]
      }
     ],
     "prompt_number": 4
    },
    {
     "cell_type": "code",
     "collapsed": false,
     "input": [
      "demolist = ['life', 42, 'the universe', 6, 'and', 7, 'everything']\n",
      "for item in demolist:\n",
      "    print(\"The current item is:\",item)"
     ],
     "language": "python",
     "metadata": {},
     "outputs": [
      {
       "output_type": "stream",
       "stream": "stdout",
       "text": [
        "The current item is: life\n",
        "The current item is: 42\n",
        "The current item is: the universe\n",
        "The current item is: 6\n",
        "The current item is: and\n",
        "The current item is: 7\n",
        "The current item is: everything\n"
       ]
      }
     ],
     "prompt_number": 5
    },
    {
     "cell_type": "code",
     "collapsed": false,
     "input": [
      "%%html\n",
      "<iframe width=\"800\" height=\"500\" frameborder=\"0\" src=\"http://pythontutor.com/iframe-embed.html#code=demolist+%3D+%5B'life',+42,+'the+universe',+6,+'and',+7,+'everything'%5D%0D%0Afor+item+in+demolist%3A%0D%0A++++print(%22The+current+item+is%3A%22,item)&origin=opt-frontend.js&cumulative=false&heapPrimitives=false&drawParentPointers=false&textReferences=false&showOnlyOutputs=false&py=3&rawInputLstJSON=%5B%5D&curInstr=0&codeDivWidth=350&codeDivHeight=400\"> </iframe>"
     ],
     "language": "python",
     "metadata": {},
     "outputs": [
      {
       "html": [
        "<iframe width=\"800\" height=\"500\" frameborder=\"0\" src=\"http://pythontutor.com/iframe-embed.html#code=demolist+%3D+%5B'life',+42,+'the+universe',+6,+'and',+7,+'everything'%5D%0D%0Afor+item+in+demolist%3A%0D%0A++++print(%22The+current+item+is%3A%22,item)&origin=opt-frontend.js&cumulative=false&heapPrimitives=false&drawParentPointers=false&textReferences=false&showOnlyOutputs=false&py=3&rawInputLstJSON=%5B%5D&curInstr=0&codeDivWidth=350&codeDivHeight=400\"> </iframe>"
       ],
       "metadata": {},
       "output_type": "display_data",
       "text": [
        "<IPython.core.display.HTML at 0x2c77750>"
       ]
      }
     ],
     "prompt_number": 6
    },
    {
     "cell_type": "code",
     "collapsed": false,
     "input": [
      "list = [2, 4, 6, 8]\n",
      "sum = 0\n",
      "for num in list:\n",
      "    sum = sum + num\n",
      " \n",
      "print(\"The sum is:\", sum)"
     ],
     "language": "python",
     "metadata": {},
     "outputs": [
      {
       "output_type": "stream",
       "stream": "stdout",
       "text": [
        "The sum is: 20\n"
       ]
      }
     ],
     "prompt_number": 7
    },
    {
     "cell_type": "code",
     "collapsed": false,
     "input": [
      "%%html\n",
      "<iframe width=\"800\" height=\"500\" frameborder=\"0\" src=\"http://pythontutor.com/iframe-embed.html#code=list+%3D+%5B2,+4,+6,+8%5D%0D%0Asum+%3D+0%0D%0Afor+num+in+list%3A%0D%0A++++sum+%3D+sum+%2B+num%0D%0A+%0D%0Aprint(%22The+sum+is%3A%22,+sum)&origin=opt-frontend.js&cumulative=false&heapPrimitives=false&drawParentPointers=false&textReferences=false&showOnlyOutputs=false&py=3&rawInputLstJSON=%5B%5D&curInstr=0&codeDivWidth=350&codeDivHeight=400\"> </iframe>"
     ],
     "language": "python",
     "metadata": {},
     "outputs": [
      {
       "html": [
        "<iframe width=\"800\" height=\"500\" frameborder=\"0\" src=\"http://pythontutor.com/iframe-embed.html#code=list+%3D+%5B2,+4,+6,+8%5D%0D%0Asum+%3D+0%0D%0Afor+num+in+list%3A%0D%0A++++sum+%3D+sum+%2B+num%0D%0A+%0D%0Aprint(%22The+sum+is%3A%22,+sum)&origin=opt-frontend.js&cumulative=false&heapPrimitives=false&drawParentPointers=false&textReferences=false&showOnlyOutputs=false&py=3&rawInputLstJSON=%5B%5D&curInstr=0&codeDivWidth=350&codeDivHeight=400\"> </iframe>"
       ],
       "metadata": {},
       "output_type": "display_data",
       "text": [
        "<IPython.core.display.HTML at 0x309c350>"
       ]
      }
     ],
     "prompt_number": 8
    },
    {
     "cell_type": "code",
     "collapsed": false,
     "input": [
      "list = [4, 5, 7, 8, 9, 1, 0, 7, 10]\n",
      "list.sort()\n",
      "prev = None\n",
      "for item in list:\n",
      "    if prev == item:\n",
      "        print(\"Duplicate of\", prev, \"found\")\n",
      "    prev = item"
     ],
     "language": "python",
     "metadata": {},
     "outputs": [
      {
       "output_type": "stream",
       "stream": "stdout",
       "text": [
        "Duplicate of 7 found\n"
       ]
      }
     ],
     "prompt_number": 9
    },
    {
     "cell_type": "code",
     "collapsed": false,
     "input": [
      "%%html\n",
      "<iframe width=\"800\" height=\"500\" frameborder=\"0\" src=\"http://pythontutor.com/iframe-embed.html#code=list+%3D+%5B4,+5,+7,+8,+9,+1,+0,+7,+10%5D%0D%0Alist.sort()%0D%0Aprev+%3D+None%0D%0Afor+item+in+list%3A%0D%0A++++if+prev+%3D%3D+item%3A%0D%0A++++++++print(%22Duplicate+of%22,+prev,+%22found%22)%0D%0A++++prev+%3D+item&origin=opt-frontend.js&cumulative=false&heapPrimitives=false&drawParentPointers=false&textReferences=false&showOnlyOutputs=false&py=3&rawInputLstJSON=%5B%5D&curInstr=0&codeDivWidth=350&codeDivHeight=400\"> </iframe>"
     ],
     "language": "python",
     "metadata": {},
     "outputs": [
      {
       "html": [
        "<iframe width=\"800\" height=\"500\" frameborder=\"0\" src=\"http://pythontutor.com/iframe-embed.html#code=list+%3D+%5B4,+5,+7,+8,+9,+1,+0,+7,+10%5D%0D%0Alist.sort()%0D%0Aprev+%3D+None%0D%0Afor+item+in+list%3A%0D%0A++++if+prev+%3D%3D+item%3A%0D%0A++++++++print(%22Duplicate+of%22,+prev,+%22found%22)%0D%0A++++prev+%3D+item&origin=opt-frontend.js&cumulative=false&heapPrimitives=false&drawParentPointers=false&textReferences=false&showOnlyOutputs=false&py=3&rawInputLstJSON=%5B%5D&curInstr=0&codeDivWidth=350&codeDivHeight=400\"> </iframe>"
       ],
       "metadata": {},
       "output_type": "display_data",
       "text": [
        "<IPython.core.display.HTML at 0x309ca50>"
       ]
      }
     ],
     "prompt_number": 10
    },
    {
     "cell_type": "code",
     "collapsed": false,
     "input": [
      "l = [4, 5, 7, 8, 9, 1, 0, 7, 10]\n",
      "print(\"l = [4, 5, 7, 8, 9, 1, 0, 7, 10]\", \"\\t\\tl:\", l)\n",
      "l.sort()\n",
      "print(\"l.sort()\", \"\\t\\tl:\", l)\n",
      "prev = l[0]\n",
      "print(\"prev = l[0]\", \"\\t\\tprev:\", prev)\n",
      "del l[0]\n",
      "print(\"del l[0]\", \"\\t\\tl:\", l)\n",
      "for item in l:\n",
      "    if prev == item:\n",
      "        print(\"Duplicate of\", prev, \"found\")\n",
      "    print(\"if prev == item:\", \"\\t\\tprev:\", prev, \"\\titem:\", item)\n",
      "    prev = item\n",
      "    print(\"prev = item\", \"\\t\\tprev:\", prev, \"\\titem:\", item)"
     ],
     "language": "python",
     "metadata": {},
     "outputs": [
      {
       "output_type": "stream",
       "stream": "stdout",
       "text": [
        "l = [4, 5, 7, 8, 9, 1, 0, 7, 10] \t\tl: [4, 5, 7, 8, 9, 1, 0, 7, 10]\n",
        "l.sort() \t\tl: [0, 1, 4, 5, 7, 7, 8, 9, 10]\n",
        "prev = l[0] \t\tprev: 0\n",
        "del l[0] \t\tl: [1, 4, 5, 7, 7, 8, 9, 10]\n",
        "if prev == item: \t\tprev: 0 \titem: 1\n",
        "prev = item \t\tprev: 1 \titem: 1\n",
        "if prev == item: \t\tprev: 1 \titem: 4\n",
        "prev = item \t\tprev: 4 \titem: 4\n",
        "if prev == item: \t\tprev: 4 \titem: 5\n",
        "prev = item \t\tprev: 5 \titem: 5\n",
        "if prev == item: \t\tprev: 5 \titem: 7\n",
        "prev = item \t\tprev: 7 \titem: 7\n",
        "Duplicate of 7 found\n",
        "if prev == item: \t\tprev: 7 \titem: 7\n",
        "prev = item \t\tprev: 7 \titem: 7\n",
        "if prev == item: \t\tprev: 7 \titem: 8\n",
        "prev = item \t\tprev: 8 \titem: 8\n",
        "if prev == item: \t\tprev: 8 \titem: 9\n",
        "prev = item \t\tprev: 9 \titem: 9\n",
        "if prev == item: \t\tprev: 9 \titem: 10\n",
        "prev = item \t\tprev: 10 \titem: 10\n"
       ]
      }
     ],
     "prompt_number": 11
    },
    {
     "cell_type": "code",
     "collapsed": false,
     "input": [
      "%%html\n",
      "<iframe width=\"800\" height=\"500\" frameborder=\"0\" src=\"http://pythontutor.com/iframe-embed.html#code=l+%3D+%5B4,+5,+7,+8,+9,+1,+0,+7,+10%5D%0D%0Aprint(%22l+%3D+%5B4,+5,+7,+8,+9,+1,+0,+7,+10%5D%22,+%22%5Ct%5Ctl%3A%22,+l)%0D%0Al.sort()%0D%0Aprint(%22l.sort()%22,+%22%5Ct%5Ctl%3A%22,+l)%0D%0Aprev+%3D+l%5B0%5D%0D%0Aprint(%22prev+%3D+l%5B0%5D%22,+%22%5Ct%5Ctprev%3A%22,+prev)%0D%0Adel+l%5B0%5D%0D%0Aprint(%22del+l%5B0%5D%22,+%22%5Ct%5Ctl%3A%22,+l)%0D%0Afor+item+in+l%3A%0D%0A++++if+prev+%3D%3D+item%3A%0D%0A++++++++print(%22Duplicate+of%22,+prev,+%22found%22)%0D%0A++++print(%22if+prev+%3D%3D+item%3A%22,+%22%5Ct%5Ctprev%3A%22,+prev,+%22%5Ctitem%3A%22,+item)%0D%0A++++prev+%3D+item%0D%0A++++print(%22prev+%3D+item%22,+%22%5Ct%5Ctprev%3A%22,+prev,+%22%5Ctitem%3A%22,+item)&origin=opt-frontend.js&cumulative=false&heapPrimitives=false&drawParentPointers=false&textReferences=false&showOnlyOutputs=false&py=3&rawInputLstJSON=%5B%5D&curInstr=0&codeDivWidth=350&codeDivHeight=400\"> </iframe>"
     ],
     "language": "python",
     "metadata": {},
     "outputs": [
      {
       "html": [
        "<iframe width=\"800\" height=\"500\" frameborder=\"0\" src=\"http://pythontutor.com/iframe-embed.html#code=l+%3D+%5B4,+5,+7,+8,+9,+1,+0,+7,+10%5D%0D%0Aprint(%22l+%3D+%5B4,+5,+7,+8,+9,+1,+0,+7,+10%5D%22,+%22%5Ct%5Ctl%3A%22,+l)%0D%0Al.sort()%0D%0Aprint(%22l.sort()%22,+%22%5Ct%5Ctl%3A%22,+l)%0D%0Aprev+%3D+l%5B0%5D%0D%0Aprint(%22prev+%3D+l%5B0%5D%22,+%22%5Ct%5Ctprev%3A%22,+prev)%0D%0Adel+l%5B0%5D%0D%0Aprint(%22del+l%5B0%5D%22,+%22%5Ct%5Ctl%3A%22,+l)%0D%0Afor+item+in+l%3A%0D%0A++++if+prev+%3D%3D+item%3A%0D%0A++++++++print(%22Duplicate+of%22,+prev,+%22found%22)%0D%0A++++print(%22if+prev+%3D%3D+item%3A%22,+%22%5Ct%5Ctprev%3A%22,+prev,+%22%5Ctitem%3A%22,+item)%0D%0A++++prev+%3D+item%0D%0A++++print(%22prev+%3D+item%22,+%22%5Ct%5Ctprev%3A%22,+prev,+%22%5Ctitem%3A%22,+item)&origin=opt-frontend.js&cumulative=false&heapPrimitives=false&drawParentPointers=false&textReferences=false&showOnlyOutputs=false&py=3&rawInputLstJSON=%5B%5D&curInstr=0&codeDivWidth=350&codeDivHeight=400\"> </iframe>"
       ],
       "metadata": {},
       "output_type": "display_data",
       "text": [
        "<IPython.core.display.HTML at 0x30a7910>"
       ]
      }
     ],
     "prompt_number": 12
    },
    {
     "cell_type": "code",
     "collapsed": false,
     "input": [
      "a = 1\n",
      "b = 1\n",
      "for c in range(1, 10):\n",
      "    print(a, end=\" \")\n",
      "    n = a + b\n",
      "    a = b\n",
      "    b = n"
     ],
     "language": "python",
     "metadata": {},
     "outputs": [
      {
       "output_type": "stream",
       "stream": "stdout",
       "text": [
        "1 1 2 3 5 8 13 21 34 "
       ]
      }
     ],
     "prompt_number": 13
    },
    {
     "cell_type": "code",
     "collapsed": false,
     "input": [
      "%%html\n",
      "<iframe width=\"800\" height=\"500\" frameborder=\"0\" src=\"http://pythontutor.com/iframe-embed.html#code=a+%3D+1%0D%0Ab+%3D+1%0D%0Afor+c+in+range(1,+10)%3A%0D%0A++++print(a,+end%3D%22+%22)%0D%0A++++n+%3D+a+%2B+b%0D%0A++++a+%3D+b%0D%0A++++b+%3D+n&origin=opt-frontend.js&cumulative=false&heapPrimitives=false&drawParentPointers=false&textReferences=false&showOnlyOutputs=false&py=3&rawInputLstJSON=%5B%5D&curInstr=15&codeDivWidth=350&codeDivHeight=400\"> </iframe>"
     ],
     "language": "python",
     "metadata": {},
     "outputs": [
      {
       "html": [
        "<iframe width=\"800\" height=\"500\" frameborder=\"0\" src=\"http://pythontutor.com/iframe-embed.html#code=a+%3D+1%0D%0Ab+%3D+1%0D%0Afor+c+in+range(1,+10)%3A%0D%0A++++print(a,+end%3D%22+%22)%0D%0A++++n+%3D+a+%2B+b%0D%0A++++a+%3D+b%0D%0A++++b+%3D+n&origin=opt-frontend.js&cumulative=false&heapPrimitives=false&drawParentPointers=false&textReferences=false&showOnlyOutputs=false&py=3&rawInputLstJSON=%5B%5D&curInstr=15&codeDivWidth=350&codeDivHeight=400\"> </iframe>"
       ],
       "metadata": {},
       "output_type": "display_data",
       "text": [
        "<IPython.core.display.HTML at 0x309cdd0>"
       ]
      }
     ],
     "prompt_number": 14
    },
    {
     "cell_type": "markdown",
     "metadata": {},
     "source": [
      "THE END"
     ]
    },
    {
     "cell_type": "code",
     "collapsed": false,
     "input": [],
     "language": "python",
     "metadata": {},
     "outputs": []
    }
   ],
   "metadata": {}
  }
 ]
}