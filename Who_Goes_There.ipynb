{
 "metadata": {
  "name": "",
  "signature": "sha256:e17d3ac6f27bb50e566cf7c6a2cc0bb8421a7d52b9a8761a3e83fda86b06b446"
 },
 "nbformat": 3,
 "nbformat_minor": 0,
 "worksheets": [
  {
   "cells": [
    {
     "cell_type": "markdown",
     "metadata": {},
     "source": [
      "##Input and Variables  [source](http://en.wikibooks.org/wiki/Non-Programmer%27s_Tutorial_for_Python_3/Who_Goes_There%3F)"
     ]
    },
    {
     "cell_type": "code",
     "collapsed": false,
     "input": [
      "print(\"Halt!\")\n",
      "user_input = input(\"Who goes there?\")\n",
      "print(\"You may pass,\",  user_input)"
     ],
     "language": "python",
     "metadata": {},
     "outputs": [
      {
       "output_type": "stream",
       "stream": "stdout",
       "text": [
        "Halt!\n"
       ]
      },
      {
       "name": "stdout",
       "output_type": "stream",
       "stream": "stdout",
       "text": [
        "Who goes there?kevin\n"
       ]
      },
      {
       "output_type": "stream",
       "stream": "stdout",
       "text": [
        "You may pass, kevin\n"
       ]
      }
     ],
     "prompt_number": 1
    },
    {
     "cell_type": "code",
     "collapsed": false,
     "input": [
      "%%html\n",
      "<iframe width=\"800\" height=\"500\" frameborder=\"0\" src=\"http://pythontutor.com/iframe-embed.html#code=print(%22Halt!%22)%0D%0Auser_input+%3D+input(%22Who+goes+there%3F%22)%0D%0Aprint(%22You+may+pass,%22,++user_input)&origin=opt-frontend.js&cumulative=false&heapPrimitives=false&drawParentPointers=false&textReferences=false&showOnlyOutputs=false&py=3&rawInputLstJSON=%5B%22kwj%22%5D&curInstr=3&codeDivWidth=350&codeDivHeight=400\"> </iframe>\n",
      "\n"
     ],
     "language": "python",
     "metadata": {},
     "outputs": [
      {
       "html": [
        "<iframe width=\"800\" height=\"500\" frameborder=\"0\" src=\"http://pythontutor.com/iframe-embed.html#code=print(%22Halt!%22)%0D%0Auser_input+%3D+input(%22Who+goes+there%3F%22)%0D%0Aprint(%22You+may+pass,%22,++user_input)&origin=opt-frontend.js&cumulative=false&heapPrimitives=false&drawParentPointers=false&textReferences=false&showOnlyOutputs=false&py=3&rawInputLstJSON=%5B%22kwj%22%5D&curInstr=3&codeDivWidth=350&codeDivHeight=400\"> </iframe>\n"
       ],
       "metadata": {},
       "output_type": "display_data",
       "text": [
        "<IPython.core.display.HTML at 0x430c4a8>"
       ]
      }
     ],
     "prompt_number": 2
    },
    {
     "cell_type": "code",
     "collapsed": false,
     "input": [
      "a = 123.4\n",
      "b23 = 'Spam'\n",
      "first_name = \"Bill\"\n",
      "b = 432\n",
      "c = a + b\n",
      "print(\"a + b is\",c)\n",
      "print(\"first_name is\",first_name)\n",
      "print(\"Sorted Parts, After Midnight or\",b23)"
     ],
     "language": "python",
     "metadata": {},
     "outputs": [
      {
       "output_type": "stream",
       "stream": "stdout",
       "text": [
        "a + b is 555.4\n",
        "first_name is Bill\n",
        "Sorted Parts, After Midnight or Spam\n"
       ]
      }
     ],
     "prompt_number": 3
    },
    {
     "cell_type": "markdown",
     "metadata": {},
     "source": []
    },
    {
     "cell_type": "markdown",
     "metadata": {},
     "source": [
      "##Assignment"
     ]
    },
    {
     "cell_type": "code",
     "collapsed": false,
     "input": [],
     "language": "python",
     "metadata": {},
     "outputs": [],
     "prompt_number": 3
    },
    {
     "cell_type": "code",
     "collapsed": false,
     "input": [],
     "language": "python",
     "metadata": {},
     "outputs": [],
     "prompt_number": 3
    },
    {
     "cell_type": "code",
     "collapsed": false,
     "input": [
      "a = 1\n",
      "print(a)\n",
      "a = a + 1\n",
      "print(a)\n",
      "a = a * 2\n",
      "print(a)"
     ],
     "language": "python",
     "metadata": {},
     "outputs": [
      {
       "output_type": "stream",
       "stream": "stdout",
       "text": [
        "1\n",
        "2\n",
        "4\n"
       ]
      }
     ],
     "prompt_number": 4
    },
    {
     "cell_type": "code",
     "collapsed": false,
     "input": [],
     "language": "python",
     "metadata": {},
     "outputs": [],
     "prompt_number": 4
    },
    {
     "cell_type": "code",
     "collapsed": false,
     "input": [
      "number = float(input(\"Type in a number: \"))\n",
      "integer = int(input(\"Type in an integer: \"))\n",
      "text = input(\"Type in a string: \")\n",
      "print(\"number =\", number)\n",
      "print(\"number is a\", type(number))\n",
      "print(\"number * 2 =\", number * 2)\n",
      "print(\"integer =\", integer)\n",
      "print(\"integer is a\", type(integer))\n",
      "print(\"integer * 2 =\", integer * 2)\n",
      "print(\"text =\", text)\n",
      "print(\"text is a\", type(text))\n",
      "print(\"text * 2 =\", text * 2)"
     ],
     "language": "python",
     "metadata": {},
     "outputs": [
      {
       "name": "stdout",
       "output_type": "stream",
       "stream": "stdout",
       "text": [
        "Type in a number: 16\n"
       ]
      },
      {
       "name": "stdout",
       "output_type": "stream",
       "stream": "stdout",
       "text": [
        "Type in an integer: 35\n"
       ]
      },
      {
       "name": "stdout",
       "output_type": "stream",
       "stream": "stdout",
       "text": [
        "Type in a string: hello?\n"
       ]
      },
      {
       "output_type": "stream",
       "stream": "stdout",
       "text": [
        "number = 16.0\n",
        "number is a <class 'float'>\n",
        "number * 2 = 32.0\n",
        "integer = 35\n",
        "integer is a <class 'int'>\n",
        "integer * 2 = 70\n",
        "text = hello?\n",
        "text is a <class 'str'>\n",
        "text * 2 = hello?hello?\n"
       ]
      }
     ],
     "prompt_number": 5
    },
    {
     "cell_type": "markdown",
     "metadata": {},
     "source": [
      "Examples"
     ]
    },
    {
     "cell_type": "code",
     "collapsed": false,
     "input": [
      "%%html\n",
      "<iframe width=\"800\" height=\"500\" frameborder=\"0\" src=\"http://pythontutor.com/iframe-embed.html#code=number+%3D+float(input(%22Type+in+a+number%3A+%22))%0D%0Ainteger+%3D+int(input(%22Type+in+an+integer%3A+%22))%0D%0Atext+%3D+input(%22Type+in+a+string%3A+%22)%0D%0Aprint(%22number+%3D%22,+number)%0D%0Aprint(%22number+is+a%22,+type(number))%0D%0Aprint(%22number+*+2+%3D%22,+number+*+2)%0D%0Aprint(%22integer+%3D%22,+integer)%0D%0Aprint(%22integer+is+a%22,+type(integer))%0D%0Aprint(%22integer+*+2+%3D%22,+integer+*+2)%0D%0Aprint(%22text+%3D%22,+text)%0D%0Aprint(%22text+is+a%22,+type(text))%0D%0Aprint(%22text+*+2+%3D%22,+text+*+2)&origin=opt-frontend.js&cumulative=false&heapPrimitives=false&drawParentPointers=false&textReferences=false&showOnlyOutputs=false&py=3&rawInputLstJSON=%5B%5D&curInstr=0&codeDivWidth=350&codeDivHeight=400\"> </iframe>"
     ],
     "language": "python",
     "metadata": {},
     "outputs": [
      {
       "html": [
        "<iframe width=\"800\" height=\"500\" frameborder=\"0\" src=\"http://pythontutor.com/iframe-embed.html#code=number+%3D+float(input(%22Type+in+a+number%3A+%22))%0D%0Ainteger+%3D+int(input(%22Type+in+an+integer%3A+%22))%0D%0Atext+%3D+input(%22Type+in+a+string%3A+%22)%0D%0Aprint(%22number+%3D%22,+number)%0D%0Aprint(%22number+is+a%22,+type(number))%0D%0Aprint(%22number+*+2+%3D%22,+number+*+2)%0D%0Aprint(%22integer+%3D%22,+integer)%0D%0Aprint(%22integer+is+a%22,+type(integer))%0D%0Aprint(%22integer+*+2+%3D%22,+integer+*+2)%0D%0Aprint(%22text+%3D%22,+text)%0D%0Aprint(%22text+is+a%22,+type(text))%0D%0Aprint(%22text+*+2+%3D%22,+text+*+2)&origin=opt-frontend.js&cumulative=false&heapPrimitives=false&drawParentPointers=false&textReferences=false&showOnlyOutputs=false&py=3&rawInputLstJSON=%5B%5D&curInstr=0&codeDivWidth=350&codeDivHeight=400\"> </iframe>"
       ],
       "metadata": {},
       "output_type": "display_data",
       "text": [
        "<IPython.core.display.HTML at 0x430c7b8>"
       ]
      }
     ],
     "prompt_number": 6
    },
    {
     "cell_type": "code",
     "collapsed": false,
     "input": [],
     "language": "python",
     "metadata": {},
     "outputs": [],
     "prompt_number": 6
    },
    {
     "cell_type": "code",
     "collapsed": false,
     "input": [],
     "language": "python",
     "metadata": {},
     "outputs": [],
     "prompt_number": 6
    },
    {
     "cell_type": "code",
     "collapsed": false,
     "input": [
      "# This program calculates rate and distance problems\n",
      "print(\"Input a rate and a distance\")\n",
      "rate= float(input(\"rate: \"))\n",
      "distance = float(input(\"Distance: \"))\n",
      "print(\"Time:\", (distance / rate))"
     ],
     "language": "python",
     "metadata": {},
     "outputs": [
      {
       "output_type": "stream",
       "stream": "stdout",
       "text": [
        "Input a rate and a distance\n"
       ]
      },
      {
       "name": "stdout",
       "output_type": "stream",
       "stream": "stdout",
       "text": [
        "rate: 20\n"
       ]
      },
      {
       "name": "stdout",
       "output_type": "stream",
       "stream": "stdout",
       "text": [
        "Distance: 500\n"
       ]
      },
      {
       "output_type": "stream",
       "stream": "stdout",
       "text": [
        "Time: 25.0\n"
       ]
      }
     ],
     "prompt_number": 7
    },
    {
     "cell_type": "code",
     "collapsed": false,
     "input": [],
     "language": "python",
     "metadata": {},
     "outputs": [],
     "prompt_number": 7
    },
    {
     "cell_type": "code",
     "collapsed": false,
     "input": [
      "%%html\n",
      "<iframe width=\"800\" height=\"500\" frameborder=\"0\" src=\"http://pythontutor.com/iframe-embed.html#code=%23+This+program+calculates+rate+and+distance+problems%0D%0Aprint(%22Input+a+rate+and+a+distance%22)%0D%0Arate%3D+float(input(%22rate%3A+%22))%0D%0Adistance+%3D+float(input(%22Distance%3A+%22))%0D%0Aprint(%22Time%3A%22,+(distance+/+rate))&origin=opt-frontend.js&cumulative=false&heapPrimitives=false&drawParentPointers=false&textReferences=false&showOnlyOutputs=false&py=3&rawInputLstJSON=%5B%2250%22,%22200%22%5D&curInstr=4&codeDivWidth=350&codeDivHeight=400\"> </iframe>"
     ],
     "language": "python",
     "metadata": {},
     "outputs": [
      {
       "html": [
        "<iframe width=\"800\" height=\"500\" frameborder=\"0\" src=\"http://pythontutor.com/iframe-embed.html#code=%23+This+program+calculates+rate+and+distance+problems%0D%0Aprint(%22Input+a+rate+and+a+distance%22)%0D%0Arate%3D+float(input(%22rate%3A+%22))%0D%0Adistance+%3D+float(input(%22Distance%3A+%22))%0D%0Aprint(%22Time%3A%22,+(distance+/+rate))&origin=opt-frontend.js&cumulative=false&heapPrimitives=false&drawParentPointers=false&textReferences=false&showOnlyOutputs=false&py=3&rawInputLstJSON=%5B%2250%22,%22200%22%5D&curInstr=4&codeDivWidth=350&codeDivHeight=400\"> </iframe>"
       ],
       "metadata": {},
       "output_type": "display_data",
       "text": [
        "<IPython.core.display.HTML at 0x430c828>"
       ]
      }
     ],
     "prompt_number": 8
    },
    {
     "cell_type": "code",
     "collapsed": false,
     "input": [],
     "language": "python",
     "metadata": {},
     "outputs": [],
     "prompt_number": 8
    },
    {
     "cell_type": "code",
     "collapsed": false,
     "input": [
      "# This program calculates the perimeter and area of a rectangle\n",
      "print(\"Calculate information about a rectangle\")\n",
      "length = float(input(\"Length: \"))\n",
      "width = float(input(\"Width: \"))\n",
      "print(\"Area:\", length * width)\n",
      "print(\"Perimeter:\", 2 * length + 2 * width)  #\ub458\ub808"
     ],
     "language": "python",
     "metadata": {},
     "outputs": [
      {
       "output_type": "stream",
       "stream": "stdout",
       "text": [
        "Calculate information about a rectangle\n"
       ]
      },
      {
       "name": "stdout",
       "output_type": "stream",
       "stream": "stdout",
       "text": [
        "Length: 100\n"
       ]
      },
      {
       "name": "stdout",
       "output_type": "stream",
       "stream": "stdout",
       "text": [
        "Width: 20\n"
       ]
      },
      {
       "output_type": "stream",
       "stream": "stdout",
       "text": [
        "Area: 2000.0\n",
        "Perimeter: 240.0\n"
       ]
      }
     ],
     "prompt_number": 9
    },
    {
     "cell_type": "code",
     "collapsed": false,
     "input": [
      "%%html\n",
      "<iframe width=\"800\" height=\"500\" frameborder=\"0\" src=\"http://pythontutor.com/iframe-embed.html#code=%23+This+program+calculates+the+perimeter+and+area+of+a+rectangle%0D%0Aprint(%22Calculate+information+about+a+rectangle%22)%0D%0Alength+%3D+float(input(%22Length%3A+%22))%0D%0Awidth+%3D+float(input(%22Width%3A+%22))%0D%0Aprint(%22Area%3A%22,+length+*+width)%0D%0Aprint(%22Perimeter%3A%22,+2+*+length+%2B+2+*+width)&origin=opt-frontend.js&cumulative=false&heapPrimitives=false&drawParentPointers=false&textReferences=false&showOnlyOutputs=false&py=3&rawInputLstJSON=%5B%22200%22,%2230%22%5D&curInstr=5&codeDivWidth=350&codeDivHeight=400\"> </iframe>"
     ],
     "language": "python",
     "metadata": {},
     "outputs": [
      {
       "html": [
        "<iframe width=\"800\" height=\"500\" frameborder=\"0\" src=\"http://pythontutor.com/iframe-embed.html#code=%23+This+program+calculates+the+perimeter+and+area+of+a+rectangle%0D%0Aprint(%22Calculate+information+about+a+rectangle%22)%0D%0Alength+%3D+float(input(%22Length%3A+%22))%0D%0Awidth+%3D+float(input(%22Width%3A+%22))%0D%0Aprint(%22Area%3A%22,+length+*+width)%0D%0Aprint(%22Perimeter%3A%22,+2+*+length+%2B+2+*+width)&origin=opt-frontend.js&cumulative=false&heapPrimitives=false&drawParentPointers=false&textReferences=false&showOnlyOutputs=false&py=3&rawInputLstJSON=%5B%22200%22,%2230%22%5D&curInstr=5&codeDivWidth=350&codeDivHeight=400\"> </iframe>"
       ],
       "metadata": {},
       "output_type": "display_data",
       "text": [
        "<IPython.core.display.HTML at 0x430c470>"
       ]
      }
     ],
     "prompt_number": 10
    },
    {
     "cell_type": "code",
     "collapsed": false,
     "input": [],
     "language": "python",
     "metadata": {},
     "outputs": [],
     "prompt_number": 10
    },
    {
     "cell_type": "code",
     "collapsed": false,
     "input": [],
     "language": "python",
     "metadata": {},
     "outputs": [],
     "prompt_number": 10
    }
   ],
   "metadata": {}
  }
 ]
}