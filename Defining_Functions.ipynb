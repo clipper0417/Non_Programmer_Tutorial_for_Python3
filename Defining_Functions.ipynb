{
 "metadata": {
  "name": "",
  "signature": "sha256:b3c20e16912e1b034c344ad07fd356d1886b25a528be807adb5f0b0d5b6556cd"
 },
 "nbformat": 3,
 "nbformat_minor": 0,
 "worksheets": [
  {
   "cells": [
    {
     "cell_type": "markdown",
     "metadata": {},
     "source": [
      "#Defining Functions    [source](http://en.wikibooks.org/wiki/Non-Programmer%27s_Tutorial_for_Python_3/Defining_Functions)"
     ]
    },
    {
     "cell_type": "markdown",
     "metadata": {},
     "source": [
      "##Creating Functions"
     ]
    },
    {
     "cell_type": "code",
     "collapsed": false,
     "input": [
      "a = 23\n",
      "b = -23\n",
      " \n",
      "if a < 0:\n",
      "    a = -a\n",
      "if b < 0:\n",
      "    b = -b\n",
      "if a == b:\n",
      "    print(\"The absolute values of\", a, \"and\", b, \"are equal.\")\n",
      "else:\n",
      "    print(\"The absolute values of\", a, \"and\", b, \"are different.\")"
     ],
     "language": "python",
     "metadata": {},
     "outputs": []
    },
    {
     "cell_type": "code",
     "collapsed": false,
     "input": [
      "%%html\n",
      "<iframe width=\"800\" height=\"500\" frameborder=\"0\" src=\"http://pythontutor.com/iframe-embed.html#code=a+%3D+23%0D%0Ab+%3D+-23%0D%0A+%0D%0Aif+a+%3C+0%3A%0D%0A++++a+%3D+-a%0D%0Aif+b+%3C+0%3A%0D%0A++++b+%3D+-b%0D%0Aif+a+%3D%3D+b%3A%0D%0A++++print(%22The+absolute+values+of%22,+a,+%22and%22,+b,+%22are+equal.%22)%0D%0Aelse%3A%0D%0A++++print(%22The+absolute+values+of%22,+a,+%22and%22,+b,+%22are+different.%22)&origin=opt-frontend.js&cumulative=false&heapPrimitives=false&drawParentPointers=false&textReferences=false&showOnlyOutputs=false&py=3&rawInputLstJSON=%5B%5D&curInstr=0&codeDivWidth=350&codeDivHeight=400\"> </iframe>"
     ],
     "language": "python",
     "metadata": {},
     "outputs": [
      {
       "html": [
        "<iframe width=\"800\" height=\"500\" frameborder=\"0\" src=\"http://pythontutor.com/iframe-embed.html#code=a+%3D+23%0D%0Ab+%3D+-23%0D%0A+%0D%0Aif+a+%3C+0%3A%0D%0A++++a+%3D+-a%0D%0Aif+b+%3C+0%3A%0D%0A++++b+%3D+-b%0D%0Aif+a+%3D%3D+b%3A%0D%0A++++print(%22The+absolute+values+of%22,+a,+%22and%22,+b,+%22are+equal.%22)%0D%0Aelse%3A%0D%0A++++print(%22The+absolute+values+of%22,+a,+%22and%22,+b,+%22are+different.%22)&origin=opt-frontend.js&cumulative=false&heapPrimitives=false&drawParentPointers=false&textReferences=false&showOnlyOutputs=false&py=3&rawInputLstJSON=%5B%5D&curInstr=0&codeDivWidth=350&codeDivHeight=400\"> </iframe>"
       ],
       "metadata": {},
       "output_type": "display_data",
       "text": [
        "<IPython.core.display.HTML at 0x2e93a90>"
       ]
      }
     ],
     "prompt_number": 1
    },
    {
     "cell_type": "markdown",
     "metadata": {},
     "source": []
    },
    {
     "cell_type": "code",
     "collapsed": false,
     "input": [
      "a = 23\n",
      "b = -23\n",
      " \n",
      "def absolute_value(n):\n",
      "    if n < 0:\n",
      "        n = -n\n",
      "    return n\n",
      " \n",
      "if absolute_value(a) == absolute_value(b):\n",
      "    print(\"The absolute values of\", a, \"and\", b, \"are equal.\")\n",
      "else:\n",
      "    print(\"The absolute values of\", a, \"and\", b, \"are different.\")"
     ],
     "language": "python",
     "metadata": {},
     "outputs": []
    },
    {
     "cell_type": "code",
     "collapsed": false,
     "input": [
      "%%html\n",
      "<iframe width=\"800\" height=\"500\" frameborder=\"0\" src=\"http://pythontutor.com/iframe-embed.html#code=a+%3D+23%0D%0Ab+%3D+-23%0D%0A+%0D%0Adef+absolute_value(n)%3A%0D%0A++++if+n+%3C+0%3A%0D%0A++++++++n+%3D+-n%0D%0A++++return+n%0D%0A+%0D%0Aif+absolute_value(a)+%3D%3D+absolute_value(b)%3A%0D%0A++++print(%22The+absolute+values+of%22,+a,+%22and%22,+b,+%22are+equal.%22)%0D%0Aelse%3A%0D%0A++++print(%22The+absolute+values+of%22,+a,+%22and%22,+b,+%22are+different.%22)&origin=opt-frontend.js&cumulative=false&heapPrimitives=false&drawParentPointers=false&textReferences=false&showOnlyOutputs=false&py=3&rawInputLstJSON=%5B%5D&curInstr=0&codeDivWidth=350&codeDivHeight=400\"> </iframe>"
     ],
     "language": "python",
     "metadata": {},
     "outputs": [
      {
       "html": [
        "<iframe width=\"800\" height=\"500\" frameborder=\"0\" src=\"http://pythontutor.com/iframe-embed.html#code=a+%3D+23%0D%0Ab+%3D+-23%0D%0A+%0D%0Adef+absolute_value(n)%3A%0D%0A++++if+n+%3C+0%3A%0D%0A++++++++n+%3D+-n%0D%0A++++return+n%0D%0A+%0D%0Aif+absolute_value(a)+%3D%3D+absolute_value(b)%3A%0D%0A++++print(%22The+absolute+values+of%22,+a,+%22and%22,+b,+%22are+equal.%22)%0D%0Aelse%3A%0D%0A++++print(%22The+absolute+values+of%22,+a,+%22and%22,+b,+%22are+different.%22)&origin=opt-frontend.js&cumulative=false&heapPrimitives=false&drawParentPointers=false&textReferences=false&showOnlyOutputs=false&py=3&rawInputLstJSON=%5B%5D&curInstr=0&codeDivWidth=350&codeDivHeight=400\"> </iframe>"
       ],
       "metadata": {},
       "output_type": "display_data",
       "text": [
        "<IPython.core.display.HTML at 0x2e93c70>"
       ]
      }
     ],
     "prompt_number": 3
    },
    {
     "cell_type": "markdown",
     "metadata": {},
     "source": []
    },
    {
     "cell_type": "code",
     "collapsed": false,
     "input": [
      "def hello():\n",
      "    print(\"Hello\")\n",
      " \n",
      "def area(width, height):\n",
      "    return width * height\n",
      " \n",
      "def print_welcome(name):\n",
      "    print(\"Welcome\", name)\n",
      " \n",
      "hello()\n",
      "hello()\n",
      " \n",
      "print_welcome(\"Fred\")\n",
      "w = 4\n",
      "h = 5\n",
      "print(\"width =\", w, \" height =\", h, \" area =\", area(w, h))"
     ],
     "language": "python",
     "metadata": {},
     "outputs": [
      {
       "output_type": "stream",
       "stream": "stdout",
       "text": [
        "Hello\n",
        "Hello\n",
        "Welcome Fred\n",
        "width = 4  height = 5  area = 20\n"
       ]
      }
     ],
     "prompt_number": 8
    },
    {
     "cell_type": "markdown",
     "metadata": {},
     "source": []
    },
    {
     "cell_type": "code",
     "collapsed": false,
     "input": [
      "%%html\n",
      "<iframe width=\"800\" height=\"500\" frameborder=\"0\" src=\"http://pythontutor.com/iframe-embed.html#code=def+hello()%3A%0D%0A++++print(%22Hello%22)%0D%0A+%0D%0Adef+area(width,+height)%3A%0D%0A++++return+width+*+height%0D%0A+%0D%0Adef+print_welcome(name)%3A%0D%0A++++print(%22Welcome%22,+name)%0D%0A+%0D%0Ahello()%0D%0Ahello()%0D%0A+%0D%0Aprint_welcome(%22Fred%22)%0D%0Aw+%3D+4%0D%0Ah+%3D+5%0D%0Aprint(%22width+%3D%22,+w,+%22+height+%3D%22,+h,+%22+area+%3D%22,+area(w,+h))&origin=opt-frontend.js&cumulative=false&heapPrimitives=false&drawParentPointers=false&textReferences=false&showOnlyOutputs=false&py=3&rawInputLstJSON=%5B%5D&curInstr=0&codeDivWidth=350&codeDivHeight=400\"> </iframe>"
     ],
     "language": "python",
     "metadata": {},
     "outputs": [
      {
       "html": [
        "<iframe width=\"800\" height=\"500\" frameborder=\"0\" src=\"http://pythontutor.com/iframe-embed.html#code=def+hello()%3A%0D%0A++++print(%22Hello%22)%0D%0A+%0D%0Adef+area(width,+height)%3A%0D%0A++++return+width+*+height%0D%0A+%0D%0Adef+print_welcome(name)%3A%0D%0A++++print(%22Welcome%22,+name)%0D%0A+%0D%0Ahello()%0D%0Ahello()%0D%0A+%0D%0Aprint_welcome(%22Fred%22)%0D%0Aw+%3D+4%0D%0Ah+%3D+5%0D%0Aprint(%22width+%3D%22,+w,+%22+height+%3D%22,+h,+%22+area+%3D%22,+area(w,+h))&origin=opt-frontend.js&cumulative=false&heapPrimitives=false&drawParentPointers=false&textReferences=false&showOnlyOutputs=false&py=3&rawInputLstJSON=%5B%5D&curInstr=0&codeDivWidth=350&codeDivHeight=400\"> </iframe>"
       ],
       "metadata": {},
       "output_type": "display_data",
       "text": [
        "<IPython.core.display.HTML at 0x2eb8cb0>"
       ]
      }
     ],
     "prompt_number": 9
    },
    {
     "cell_type": "code",
     "collapsed": false,
     "input": [],
     "language": "python",
     "metadata": {},
     "outputs": []
    },
    {
     "cell_type": "markdown",
     "metadata": {},
     "source": [
      "##Variables in functions"
     ]
    },
    {
     "cell_type": "code",
     "collapsed": false,
     "input": [
      "a = 4\n",
      " \n",
      "def print_func():\n",
      "    a = 17\n",
      "    print(\"in print_func a = \", a)\n",
      " \n",
      "print_func()\n",
      "print(\"a = \", a)"
     ],
     "language": "python",
     "metadata": {},
     "outputs": []
    },
    {
     "cell_type": "code",
     "collapsed": false,
     "input": [
      "%%html\n",
      "<iframe width=\"800\" height=\"500\" frameborder=\"0\" src=\"http://pythontutor.com/iframe-embed.html#code=a+%3D+4%0D%0A+%0D%0Adef+print_func()%3A%0D%0A++++a+%3D+17%0D%0A++++print(%22in+print_func+a+%3D+%22,+a)%0D%0A+%0D%0Aprint_func()%0D%0Aprint(%22a+%3D+%22,+a)&origin=opt-frontend.js&cumulative=false&heapPrimitives=false&drawParentPointers=false&textReferences=false&showOnlyOutputs=false&py=3&rawInputLstJSON=%5B%5D&curInstr=0&codeDivWidth=350&codeDivHeight=400\"> </iframe>"
     ],
     "language": "python",
     "metadata": {},
     "outputs": [
      {
       "html": [
        "<iframe width=\"800\" height=\"500\" frameborder=\"0\" src=\"http://pythontutor.com/iframe-embed.html#code=a+%3D+4%0D%0A+%0D%0Adef+print_func()%3A%0D%0A++++a+%3D+17%0D%0A++++print(%22in+print_func+a+%3D+%22,+a)%0D%0A+%0D%0Aprint_func()%0D%0Aprint(%22a+%3D+%22,+a)&origin=opt-frontend.js&cumulative=false&heapPrimitives=false&drawParentPointers=false&textReferences=false&showOnlyOutputs=false&py=3&rawInputLstJSON=%5B%5D&curInstr=0&codeDivWidth=350&codeDivHeight=400\"> </iframe>"
       ],
       "metadata": {},
       "output_type": "display_data",
       "text": [
        "<IPython.core.display.HTML at 0x2eb84f0>"
       ]
      }
     ],
     "prompt_number": 14
    },
    {
     "cell_type": "markdown",
     "metadata": {},
     "source": []
    },
    {
     "cell_type": "code",
     "collapsed": false,
     "input": [
      "a_var = 10\n",
      "b_var = 15\n",
      "e_var = 25\n",
      " \n",
      "def a_func(a_var):\n",
      "    print(\"in a_func a_var = \", a_var)\n",
      "    b_var = 100 + a_var\n",
      "    d_var = 2 * a_var\n",
      "    print(\"in a_func b_var = \", b_var)\n",
      "    print(\"in a_func d_var = \", d_var)\n",
      "    print(\"in a_func e_var = \", e_var)\n",
      "    return b_var + 10\n",
      " \n",
      "c_var = a_func(b_var)\n",
      " \n",
      "print(\"a_var = \", a_var)\n",
      "print(\"b_var = \", b_var)\n",
      "print(\"c_var = \", c_var)\n",
      "print(\"d_var = \", d_var)"
     ],
     "language": "python",
     "metadata": {},
     "outputs": [
      {
       "output_type": "stream",
       "stream": "stdout",
       "text": [
        "in a_func a_var =  15\n",
        "in a_func b_var =  115\n",
        "in a_func d_var =  30\n",
        "in a_func e_var =  25\n",
        "a_var =  10\n",
        "b_var =  15\n",
        "c_var =  125\n"
       ]
      },
      {
       "ename": "NameError",
       "evalue": "name 'd_var' is not defined",
       "output_type": "pyerr",
       "traceback": [
        "\u001b[1;31m---------------------------------------------------------------------------\u001b[0m\n\u001b[1;31mNameError\u001b[0m                                 Traceback (most recent call last)",
        "\u001b[1;32m<ipython-input-19-f60d74b980a5>\u001b[0m in \u001b[0;36m<module>\u001b[1;34m()\u001b[0m\n\u001b[0;32m     17\u001b[0m \u001b[0mprint\u001b[0m\u001b[1;33m(\u001b[0m\u001b[1;34m\"b_var = \"\u001b[0m\u001b[1;33m,\u001b[0m \u001b[0mb_var\u001b[0m\u001b[1;33m)\u001b[0m\u001b[1;33m\u001b[0m\u001b[0m\n\u001b[0;32m     18\u001b[0m \u001b[0mprint\u001b[0m\u001b[1;33m(\u001b[0m\u001b[1;34m\"c_var = \"\u001b[0m\u001b[1;33m,\u001b[0m \u001b[0mc_var\u001b[0m\u001b[1;33m)\u001b[0m\u001b[1;33m\u001b[0m\u001b[0m\n\u001b[1;32m---> 19\u001b[1;33m \u001b[0mprint\u001b[0m\u001b[1;33m(\u001b[0m\u001b[1;34m\"d_var = \"\u001b[0m\u001b[1;33m,\u001b[0m \u001b[0md_var\u001b[0m\u001b[1;33m)\u001b[0m\u001b[1;33m\u001b[0m\u001b[0m\n\u001b[0m",
        "\u001b[1;31mNameError\u001b[0m: name 'd_var' is not defined"
       ]
      }
     ],
     "prompt_number": 19
    },
    {
     "cell_type": "code",
     "collapsed": false,
     "input": [
      "%%html\n",
      "<iframe width=\"800\" height=\"500\" frameborder=\"0\" src=\"http://pythontutor.com/iframe-embed.html#code=a_var+%3D+10%0D%0Ab_var+%3D+15%0D%0Ae_var+%3D+25%0D%0A+%0D%0Adef+a_func(a_var)%3A%0D%0A++++print(%22in+a_func+a_var+%3D+%22,+a_var)%0D%0A++++b_var+%3D+100+%2B+a_var%0D%0A++++d_var+%3D+2+*+a_var%0D%0A++++print(%22in+a_func+b_var+%3D+%22,+b_var)%0D%0A++++print(%22in+a_func+d_var+%3D+%22,+d_var)%0D%0A++++print(%22in+a_func+e_var+%3D+%22,+e_var)%0D%0A++++return+b_var+%2B+10%0D%0A+%0D%0Ac_var+%3D+a_func(b_var)%0D%0A+%0D%0Aprint(%22a_var+%3D+%22,+a_var)%0D%0Aprint(%22b_var+%3D+%22,+b_var)%0D%0Aprint(%22c_var+%3D+%22,+c_var)%0D%0Aprint(%22d_var+%3D+%22,+d_var)&origin=opt-frontend.js&cumulative=false&heapPrimitives=false&drawParentPointers=false&textReferences=false&showOnlyOutputs=false&py=3&rawInputLstJSON=%5B%5D&curInstr=0&codeDivWidth=350&codeDivHeight=400\"> </iframe>"
     ],
     "language": "python",
     "metadata": {},
     "outputs": [
      {
       "html": [
        "<iframe width=\"800\" height=\"500\" frameborder=\"0\" src=\"http://pythontutor.com/iframe-embed.html#code=a_var+%3D+10%0D%0Ab_var+%3D+15%0D%0Ae_var+%3D+25%0D%0A+%0D%0Adef+a_func(a_var)%3A%0D%0A++++print(%22in+a_func+a_var+%3D+%22,+a_var)%0D%0A++++b_var+%3D+100+%2B+a_var%0D%0A++++d_var+%3D+2+*+a_var%0D%0A++++print(%22in+a_func+b_var+%3D+%22,+b_var)%0D%0A++++print(%22in+a_func+d_var+%3D+%22,+d_var)%0D%0A++++print(%22in+a_func+e_var+%3D+%22,+e_var)%0D%0A++++return+b_var+%2B+10%0D%0A+%0D%0Ac_var+%3D+a_func(b_var)%0D%0A+%0D%0Aprint(%22a_var+%3D+%22,+a_var)%0D%0Aprint(%22b_var+%3D+%22,+b_var)%0D%0Aprint(%22c_var+%3D+%22,+c_var)%0D%0Aprint(%22d_var+%3D+%22,+d_var)&origin=opt-frontend.js&cumulative=false&heapPrimitives=false&drawParentPointers=false&textReferences=false&showOnlyOutputs=false&py=3&rawInputLstJSON=%5B%5D&curInstr=0&codeDivWidth=350&codeDivHeight=400\"> </iframe>"
       ],
       "metadata": {},
       "output_type": "display_data",
       "text": [
        "<IPython.core.display.HTML at 0x2eb86f0>"
       ]
      }
     ],
     "prompt_number": 20
    },
    {
     "cell_type": "code",
     "collapsed": false,
     "input": [],
     "language": "python",
     "metadata": {},
     "outputs": []
    },
    {
     "cell_type": "markdown",
     "metadata": {},
     "source": [
      "##Temperature"
     ]
    },
    {
     "cell_type": "code",
     "collapsed": false,
     "input": [
      "def print_options():\n",
      "    print(\"Options:\")\n",
      "    print(\" 'p' print options\")\n",
      "    print(\" 'c' convert from Celsius\")\n",
      "    print(\" 'f' convert from Fahrenheit\")\n",
      "    print(\" 'q' quit the program\")\n",
      " \n",
      "def celsius_to_fahrenheit(c_temp):\n",
      "    return 9.0 / 5.0 * c_temp + 32\n",
      " \n",
      "def fahrenheit_to_celsius(f_temp):\n",
      "    return (f_temp - 32.0) * 5.0 / 9.0\n",
      " \n",
      "choice = \"p\"\n",
      "while choice != \"q\":\n",
      "    if choice == \"c\":\n",
      "        c_temp = float(input(\"Celsius temperature: \"))\n",
      "        print(\"Fahrenheit:\", celsius_to_fahrenheit(c_temp))\n",
      "        choice = input(\"option: \")\n",
      "    elif choice == \"f\":\n",
      "        f_temp = float(input(\"Fahrenheit temperature: \"))\n",
      "        print(\"Celsius:\", fahrenheit_to_celsius(f_temp))\n",
      "        choice = input(\"option: \")\n",
      "    elif choice == \"p\": #Alternatively choice != \"q\": so that print when anything unexpected inputed\n",
      "        print_options()\n",
      "        choice = input(\"option: \")"
     ],
     "language": "python",
     "metadata": {},
     "outputs": [
      {
       "output_type": "stream",
       "stream": "stdout",
       "text": [
        "Options:\n",
        " 'p' print options\n",
        " 'c' convert from Celsius\n",
        " 'f' convert from Fahrenheit\n",
        " 'q' quit the program\n"
       ]
      },
      {
       "name": "stdout",
       "output_type": "stream",
       "stream": "stdout",
       "text": [
        "option: p\n"
       ]
      },
      {
       "output_type": "stream",
       "stream": "stdout",
       "text": [
        "Options:\n",
        " 'p' print options\n",
        " 'c' convert from Celsius\n",
        " 'f' convert from Fahrenheit\n",
        " 'q' quit the program\n"
       ]
      },
      {
       "name": "stdout",
       "output_type": "stream",
       "stream": "stdout",
       "text": [
        "option: c\n"
       ]
      },
      {
       "name": "stdout",
       "output_type": "stream",
       "stream": "stdout",
       "text": [
        "Celsius temperature: 20\n"
       ]
      },
      {
       "output_type": "stream",
       "stream": "stdout",
       "text": [
        "Fahrenheit: 68.0\n"
       ]
      },
      {
       "name": "stdout",
       "output_type": "stream",
       "stream": "stdout",
       "text": [
        "option: f\n"
       ]
      },
      {
       "name": "stdout",
       "output_type": "stream",
       "stream": "stdout",
       "text": [
        "Fahrenheit temperature: 68\n"
       ]
      },
      {
       "output_type": "stream",
       "stream": "stdout",
       "text": [
        "Celsius: 20.0\n"
       ]
      },
      {
       "name": "stdout",
       "output_type": "stream",
       "stream": "stdout",
       "text": [
        "option: q\n"
       ]
      }
     ],
     "prompt_number": 11
    },
    {
     "cell_type": "code",
     "collapsed": false,
     "input": [],
     "language": "python",
     "metadata": {},
     "outputs": []
    },
    {
     "cell_type": "code",
     "collapsed": false,
     "input": [
      "%%html\n",
      "<iframe width=\"800\" height=\"500\" frameborder=\"0\" src=\"http://pythontutor.com/iframe-embed.html#code=def+print_options()%3A%0D%0A++++print(%22Options%3A%22)%0D%0A++++print(%22+'p'+print+options%22)%0D%0A++++print(%22+'c'+convert+from+Celsius%22)%0D%0A++++print(%22+'f'+convert+from+Fahrenheit%22)%0D%0A++++print(%22+'q'+quit+the+program%22)%0D%0A+%0D%0Adef+celsius_to_fahrenheit(c_temp)%3A%0D%0A++++return+9.0+/+5.0+*+c_temp+%2B+32%0D%0A+%0D%0Adef+fahrenheit_to_celsius(f_temp)%3A%0D%0A++++return+(f_temp+-+32.0)+*+5.0+/+9.0%0D%0A+%0D%0Achoice+%3D+%22p%22%0D%0Awhile+choice+!%3D+%22q%22%3A%0D%0A++++if+choice+%3D%3D+%22c%22%3A%0D%0A++++++++c_temp+%3D+float(input(%22Celsius+temperature%3A+%22))%0D%0A++++++++print(%22Fahrenheit%3A%22,+celsius_to_fahrenheit(c_temp))%0D%0A++++++++choice+%3D+input(%22option%3A+%22)%0D%0A++++elif+choice+%3D%3D+%22f%22%3A%0D%0A++++++++f_temp+%3D+float(input(%22Fahrenheit+temperature%3A+%22))%0D%0A++++++++print(%22Celsius%3A%22,+fahrenheit_to_celsius(f_temp))%0D%0A++++++++choice+%3D+input(%22option%3A+%22)%0D%0A++++elif+choice+%3D%3D+%22p%22%3A+%23Alternatively+choice+!%3D+%22q%22%3A+so+that+print+when+anything+unexpected+inputed%0D%0A++++++++print_options()%0D%0A++++++++choice+%3D+input(%22option%3A+%22)++++++++&origin=opt-frontend.js&cumulative=false&heapPrimitives=false&drawParentPointers=false&textReferences=false&showOnlyOutputs=false&py=3&rawInputLstJSON=%5B%5D&curInstr=0&codeDivWidth=350&codeDivHeight=400\"> </iframe>"
     ],
     "language": "python",
     "metadata": {},
     "outputs": [
      {
       "html": [
        "<iframe width=\"800\" height=\"500\" frameborder=\"0\" src=\"http://pythontutor.com/iframe-embed.html#code=def+print_options()%3A%0D%0A++++print(%22Options%3A%22)%0D%0A++++print(%22+'p'+print+options%22)%0D%0A++++print(%22+'c'+convert+from+Celsius%22)%0D%0A++++print(%22+'f'+convert+from+Fahrenheit%22)%0D%0A++++print(%22+'q'+quit+the+program%22)%0D%0A+%0D%0Adef+celsius_to_fahrenheit(c_temp)%3A%0D%0A++++return+9.0+/+5.0+*+c_temp+%2B+32%0D%0A+%0D%0Adef+fahrenheit_to_celsius(f_temp)%3A%0D%0A++++return+(f_temp+-+32.0)+*+5.0+/+9.0%0D%0A+%0D%0Achoice+%3D+%22p%22%0D%0Awhile+choice+!%3D+%22q%22%3A%0D%0A++++if+choice+%3D%3D+%22c%22%3A%0D%0A++++++++c_temp+%3D+float(input(%22Celsius+temperature%3A+%22))%0D%0A++++++++print(%22Fahrenheit%3A%22,+celsius_to_fahrenheit(c_temp))%0D%0A++++++++choice+%3D+input(%22option%3A+%22)%0D%0A++++elif+choice+%3D%3D+%22f%22%3A%0D%0A++++++++f_temp+%3D+float(input(%22Fahrenheit+temperature%3A+%22))%0D%0A++++++++print(%22Celsius%3A%22,+fahrenheit_to_celsius(f_temp))%0D%0A++++++++choice+%3D+input(%22option%3A+%22)%0D%0A++++elif+choice+%3D%3D+%22p%22%3A+%23Alternatively+choice+!%3D+%22q%22%3A+so+that+print+when+anything+unexpected+inputed%0D%0A++++++++print_options()%0D%0A++++++++choice+%3D+input(%22option%3A+%22)++++++++&origin=opt-frontend.js&cumulative=false&heapPrimitives=false&drawParentPointers=false&textReferences=false&showOnlyOutputs=false&py=3&rawInputLstJSON=%5B%5D&curInstr=0&codeDivWidth=350&codeDivHeight=400\"> </iframe>"
       ],
       "metadata": {},
       "output_type": "display_data",
       "text": [
        "<IPython.core.display.HTML at 0x2eb83d0>"
       ]
      }
     ],
     "prompt_number": 13
    },
    {
     "cell_type": "code",
     "collapsed": false,
     "input": [],
     "language": "python",
     "metadata": {},
     "outputs": []
    },
    {
     "cell_type": "code",
     "collapsed": false,
     "input": [],
     "language": "python",
     "metadata": {},
     "outputs": []
    },
    {
     "cell_type": "code",
     "collapsed": false,
     "input": [],
     "language": "python",
     "metadata": {},
     "outputs": []
    },
    {
     "cell_type": "code",
     "collapsed": false,
     "input": [],
     "language": "python",
     "metadata": {},
     "outputs": []
    },
    {
     "cell_type": "code",
     "collapsed": false,
     "input": [],
     "language": "python",
     "metadata": {},
     "outputs": []
    }
   ],
   "metadata": {}
  }
 ]
}