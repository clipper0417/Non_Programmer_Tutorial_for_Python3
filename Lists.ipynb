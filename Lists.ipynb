{
 "metadata": {
  "name": "",
  "signature": "sha256:fb171689abb868e65ea7e5bd2339a6dadf121b2ab3c95e819a2c2675e1170a46"
 },
 "nbformat": 3,
 "nbformat_minor": 0,
 "worksheets": [
  {
   "cells": [
    {
     "cell_type": "markdown",
     "metadata": {},
     "source": [
      "##Variables with more than one value"
     ]
    },
    {
     "cell_type": "code",
     "collapsed": false,
     "input": [
      "which_one = int(input(\"What month (1-12)? \"))\n",
      "months = ['January', 'February', 'March', 'April', 'May', 'June', 'July',\n",
      "          'August', 'September', 'October', 'November', 'December']\n",
      " \n",
      "if 1 <= which_one <= 12:\n",
      "    print(\"The month is\", months[which_one - 1])"
     ],
     "language": "python",
     "metadata": {},
     "outputs": [
      {
       "name": "stdout",
       "output_type": "stream",
       "stream": "stdout",
       "text": [
        "What month (1-12)? 4\n"
       ]
      },
      {
       "output_type": "stream",
       "stream": "stdout",
       "text": [
        "The month is April\n"
       ]
      }
     ],
     "prompt_number": 1
    },
    {
     "cell_type": "code",
     "collapsed": false,
     "input": [
      "%%html\n",
      "<iframe width=\"800\" height=\"500\" frameborder=\"0\" src=\"http://pythontutor.com/iframe-embed.html#code=which_one+%3D+int(input(%22What+month+(1-12)%3F+%22))%0D%0Amonths+%3D+%5B'January',+'February',+'March',+'April',+'May',+'June',+'July',%0D%0A++++++++++'August',+'September',+'October',+'November',+'December'%5D%0D%0A+%0D%0Aif+1+%3C%3D+which_one+%3C%3D+12%3A%0D%0A++++print(%22The+month+is%22,+months%5Bwhich_one+-+1%5D)&origin=opt-frontend.js&cumulative=false&heapPrimitives=false&drawParentPointers=false&textReferences=false&showOnlyOutputs=false&py=3&rawInputLstJSON=%5B%224%22%5D&curInstr=5&codeDivWidth=350&codeDivHeight=400\"> </iframe>"
     ],
     "language": "python",
     "metadata": {},
     "outputs": [
      {
       "html": [
        "<iframe width=\"800\" height=\"500\" frameborder=\"0\" src=\"http://pythontutor.com/iframe-embed.html#code=which_one+%3D+int(input(%22What+month+(1-12)%3F+%22))%0D%0Amonths+%3D+%5B'January',+'February',+'March',+'April',+'May',+'June',+'July',%0D%0A++++++++++'August',+'September',+'October',+'November',+'December'%5D%0D%0A+%0D%0Aif+1+%3C%3D+which_one+%3C%3D+12%3A%0D%0A++++print(%22The+month+is%22,+months%5Bwhich_one+-+1%5D)&origin=opt-frontend.js&cumulative=false&heapPrimitives=false&drawParentPointers=false&textReferences=false&showOnlyOutputs=false&py=3&rawInputLstJSON=%5B%224%22%5D&curInstr=5&codeDivWidth=350&codeDivHeight=400\"> </iframe>"
       ],
       "metadata": {},
       "output_type": "display_data",
       "text": [
        "<IPython.core.display.HTML at 0x31b7ed0>"
       ]
      }
     ],
     "prompt_number": 2
    },
    {
     "cell_type": "markdown",
     "metadata": {},
     "source": [
      "##More features of lists"
     ]
    },
    {
     "cell_type": "code",
     "collapsed": false,
     "input": [
      "demolist = [\"life\", 42, \"the universe\", 6, \"and\", 9]\n",
      "print(\"demolist = \",demolist)\n",
      "demolist.append(\"everything\")\n",
      "print(\"after 'everything' was appended demolist is now:\")\n",
      "print(demolist)\n",
      "print(\"len(demolist) =\", len(demolist))\n",
      "print(\"demolist.index(42) =\", demolist.index(42))\n",
      "print(\"demolist[1] =\", demolist[1])\n",
      " \n",
      "# Next we will loop through the list\n",
      "for c in range(len(demolist)):\n",
      "    print(\"demolist[\", c, \"] =\", demolist[c])\n",
      " \n",
      "del demolist[2]\n",
      "print(\"After 'the universe' was removed demolist is now:\")\n",
      "print(demolist)\n",
      "if \"life\" in demolist:\n",
      "    print(\"'life' was found in demolist\")\n",
      "else:\n",
      "    print(\"'life' was not found in demolist\")\n",
      " \n",
      "if \"amoeba\" in demolist:\n",
      "    print(\"'amoeba' was found in demolist\")\n",
      " \n",
      "if \"amoeba\" not in demolist:\n",
      "    print(\"'amoeba' was not found in demolist\")\n",
      " \n",
      "another_list = [42,7,0,123]\n",
      "another_list.sort()\n",
      "print(\"The sorted another_list is\", another_list)"
     ],
     "language": "python",
     "metadata": {},
     "outputs": [
      {
       "output_type": "stream",
       "stream": "stdout",
       "text": [
        "demolist =  ['life', 42, 'the universe', 6, 'and', 9]\n",
        "after 'everything' was appended demolist is now:\n",
        "['life', 42, 'the universe', 6, 'and', 9, 'everything']\n",
        "len(demolist) = 7\n",
        "demolist.index(42) = 1\n",
        "demolist[1] = 42\n",
        "demolist[ 0 ] = life\n",
        "demolist[ 1 ] = 42\n",
        "demolist[ 2 ] = the universe\n",
        "demolist[ 3 ] = 6\n",
        "demolist[ 4 ] = and\n",
        "demolist[ 5 ] = 9\n",
        "demolist[ 6 ] = everything\n",
        "After 'the universe' was removed demolist is now:\n",
        "['life', 42, 6, 'and', 9, 'everything']\n",
        "'life' was found in demolist\n",
        "'amoeba' was not found in demolist\n",
        "The sorted another_list is [0, 7, 42, 123]\n"
       ]
      }
     ],
     "prompt_number": 3
    },
    {
     "cell_type": "code",
     "collapsed": false,
     "input": [
      "%%html\n",
      "<iframe width=\"800\" height=\"500\" frameborder=\"0\" src=\"http://pythontutor.com/iframe-embed.html#code=demolist+%3D+%5B%22life%22,+42,+%22the+universe%22,+6,+%22and%22,+9%5D%0D%0Aprint(%22demolist+%3D+%22,demolist)%0D%0Ademolist.append(%22everything%22)%0D%0Aprint(%22after+'everything'+was+appended+demolist+is+now%3A%22)%0D%0Aprint(demolist)%0D%0Aprint(%22len(demolist)+%3D%22,+len(demolist))%0D%0Aprint(%22demolist.index(42)+%3D%22,+demolist.index(42))%0D%0Aprint(%22demolist%5B1%5D+%3D%22,+demolist%5B1%5D)%0D%0A+%0D%0A%23+Next+we+will+loop+through+the+list%0D%0Afor+c+in+range(len(demolist))%3A%0D%0A++++print(%22demolist%5B%22,+c,+%22%5D+%3D%22,+demolist%5Bc%5D)%0D%0A+%0D%0Adel+demolist%5B2%5D%0D%0Aprint(%22After+'the+universe'+was+removed+demolist+is+now%3A%22)%0D%0Aprint(demolist)%0D%0Aif+%22life%22+in+demolist%3A%0D%0A++++print(%22'life'+was+found+in+demolist%22)%0D%0Aelse%3A%0D%0A++++print(%22'life'+was+not+found+in+demolist%22)%0D%0A+%0D%0Aif+%22amoeba%22+in+demolist%3A%0D%0A++++print(%22'amoeba'+was+found+in+demolist%22)%0D%0A+%0D%0Aif+%22amoeba%22+not+in+demolist%3A%0D%0A++++print(%22'amoeba'+was+not+found+in+demolist%22)%0D%0A+%0D%0Aanother_list+%3D+%5B42,7,0,123%5D%0D%0Aanother_list.sort()%0D%0Aprint(%22The+sorted+another_list+is%22,+another_list)&origin=opt-frontend.js&cumulative=false&heapPrimitives=false&drawParentPointers=false&textReferences=false&showOnlyOutputs=false&py=3&rawInputLstJSON=%5B%5D&curInstr=34&codeDivWidth=350&codeDivHeight=400\"> </iframe>"
     ],
     "language": "python",
     "metadata": {},
     "outputs": [
      {
       "html": [
        "<iframe width=\"800\" height=\"500\" frameborder=\"0\" src=\"http://pythontutor.com/iframe-embed.html#code=demolist+%3D+%5B%22life%22,+42,+%22the+universe%22,+6,+%22and%22,+9%5D%0D%0Aprint(%22demolist+%3D+%22,demolist)%0D%0Ademolist.append(%22everything%22)%0D%0Aprint(%22after+'everything'+was+appended+demolist+is+now%3A%22)%0D%0Aprint(demolist)%0D%0Aprint(%22len(demolist)+%3D%22,+len(demolist))%0D%0Aprint(%22demolist.index(42)+%3D%22,+demolist.index(42))%0D%0Aprint(%22demolist%5B1%5D+%3D%22,+demolist%5B1%5D)%0D%0A+%0D%0A%23+Next+we+will+loop+through+the+list%0D%0Afor+c+in+range(len(demolist))%3A%0D%0A++++print(%22demolist%5B%22,+c,+%22%5D+%3D%22,+demolist%5Bc%5D)%0D%0A+%0D%0Adel+demolist%5B2%5D%0D%0Aprint(%22After+'the+universe'+was+removed+demolist+is+now%3A%22)%0D%0Aprint(demolist)%0D%0Aif+%22life%22+in+demolist%3A%0D%0A++++print(%22'life'+was+found+in+demolist%22)%0D%0Aelse%3A%0D%0A++++print(%22'life'+was+not+found+in+demolist%22)%0D%0A+%0D%0Aif+%22amoeba%22+in+demolist%3A%0D%0A++++print(%22'amoeba'+was+found+in+demolist%22)%0D%0A+%0D%0Aif+%22amoeba%22+not+in+demolist%3A%0D%0A++++print(%22'amoeba'+was+not+found+in+demolist%22)%0D%0A+%0D%0Aanother_list+%3D+%5B42,7,0,123%5D%0D%0Aanother_list.sort()%0D%0Aprint(%22The+sorted+another_list+is%22,+another_list)&origin=opt-frontend.js&cumulative=false&heapPrimitives=false&drawParentPointers=false&textReferences=false&showOnlyOutputs=false&py=3&rawInputLstJSON=%5B%5D&curInstr=34&codeDivWidth=350&codeDivHeight=400\"> </iframe>"
       ],
       "metadata": {},
       "output_type": "display_data",
       "text": [
        "<IPython.core.display.HTML at 0x31b7710>"
       ]
      }
     ],
     "prompt_number": 4
    },
    {
     "cell_type": "code",
     "collapsed": false,
     "input": [],
     "language": "python",
     "metadata": {},
     "outputs": []
    },
    {
     "cell_type": "code",
     "collapsed": false,
     "input": [
      "menu_item = 0\n",
      "namelist = []\n",
      "while menu_item != 9:\n",
      "    print(\"--------------------\")\n",
      "    print(\"1. Print the list\")\n",
      "    print(\"2. Add a name to the list\")\n",
      "    print(\"3. Remove a name from the list\")\n",
      "    print(\"4. Change an item in the list\")\n",
      "    print(\"9. Quit\")\n",
      "    menu_item = int(input(\"Pick an item from the menu: \"))\n",
      "    if menu_item == 1:\n",
      "        current = 0\n",
      "        if len(namelist) > 0:\n",
      "            while current < len(namelist):\n",
      "                print(current, \".\", namelist[current])\n",
      "                current = current + 1\n",
      "        else:\n",
      "            print(\"List is empty\")\n",
      "    elif menu_item == 2:\n",
      "        name = input(\"Type in a name to add: \")\n",
      "        namelist.append(name)\n",
      "    elif menu_item == 3:\n",
      "        del_name = input(\"What name would you like to remove: \")\n",
      "        if del_name in namelist:\n",
      "            # namelist.remove(del_name) would work just as fine\n",
      "            item_number = namelist.index(del_name)\n",
      "            del namelist[item_number]\n",
      "            # The code above only removes the first occurrence of\n",
      "            # the name.  The code below from Gerald removes all.\n",
      "            # while del_name in namelist:\n",
      "            #       item_number = namelist.index(del_name)\n",
      "            #       del namelist[item_number]\n",
      "        else:\n",
      "            print(del_name, \"was not found\")\n",
      "    elif menu_item == 4:\n",
      "        old_name = input(\"What name would you like to change: \")\n",
      "        if old_name in namelist:\n",
      "            item_number = namelist.index(old_name)\n",
      "            new_name = input(\"What is the new name: \")\n",
      "            namelist[item_number] = new_name\n",
      "        else:\n",
      "            print(old_name, \"was not found\")\n",
      " \n",
      "print(\"Goodbye\")"
     ],
     "language": "python",
     "metadata": {},
     "outputs": [
      {
       "output_type": "stream",
       "stream": "stdout",
       "text": [
        "--------------------\n",
        "1. Print the list\n",
        "2. Add a name to the list\n",
        "3. Remove a name from the list\n",
        "4. Change an item in the list\n",
        "9. Quit\n"
       ]
      },
      {
       "name": "stdout",
       "output_type": "stream",
       "stream": "stdout",
       "text": [
        "Pick an item from the menu: 9\n"
       ]
      },
      {
       "output_type": "stream",
       "stream": "stdout",
       "text": [
        "Goodbye\n"
       ]
      }
     ],
     "prompt_number": 5
    },
    {
     "cell_type": "code",
     "collapsed": false,
     "input": [
      "%%html\n",
      "<iframe width=\"800\" height=\"500\" frameborder=\"0\" src=\"http://pythontutor.com/iframe-embed.html#code=menu_item+%3D+0%0D%0Anamelist+%3D+%5B%5D%0D%0Awhile+menu_item+!%3D+9%3A%0D%0A++++print(%22--------------------%22)%0D%0A++++print(%221.+Print+the+list%22)%0D%0A++++print(%222.+Add+a+name+to+the+list%22)%0D%0A++++print(%223.+Remove+a+name+from+the+list%22)%0D%0A++++print(%224.+Change+an+item+in+the+list%22)%0D%0A++++print(%229.+Quit%22)%0D%0A++++menu_item+%3D+int(input(%22Pick+an+item+from+the+menu%3A+%22))%0D%0A++++if+menu_item+%3D%3D+1%3A%0D%0A++++++++current+%3D+0%0D%0A++++++++if+len(namelist)+%3E+0%3A%0D%0A++++++++++++while+current+%3C+len(namelist)%3A%0D%0A++++++++++++++++print(current,+%22.%22,+namelist%5Bcurrent%5D)%0D%0A++++++++++++++++current+%3D+current+%2B+1%0D%0A++++++++else%3A%0D%0A++++++++++++print(%22List+is+empty%22)%0D%0A++++elif+menu_item+%3D%3D+2%3A%0D%0A++++++++name+%3D+input(%22Type+in+a+name+to+add%3A+%22)%0D%0A++++++++namelist.append(name)%0D%0A++++elif+menu_item+%3D%3D+3%3A%0D%0A++++++++del_name+%3D+input(%22What+name+would+you+like+to+remove%3A+%22)%0D%0A++++++++if+del_name+in+namelist%3A%0D%0A++++++++++++%23+namelist.remove(del_name)+would+work+just+as+fine%0D%0A++++++++++++item_number+%3D+namelist.index(del_name)%0D%0A++++++++++++del+namelist%5Bitem_number%5D%0D%0A++++++++++++%23+The+code+above+only+removes+the+first+occurrence+of%0D%0A++++++++++++%23+the+name.++The+code+below+from+Gerald+removes+all.%0D%0A++++++++++++%23+while+del_name+in+namelist%3A%0D%0A++++++++++++%23+++++++item_number+%3D+namelist.index(del_name)%0D%0A++++++++++++%23+++++++del+namelist%5Bitem_number%5D%0D%0A++++++++else%3A%0D%0A++++++++++++print(del_name,+%22was+not+found%22)%0D%0A++++elif+menu_item+%3D%3D+4%3A%0D%0A++++++++old_name+%3D+input(%22What+name+would+you+like+to+change%3A+%22)%0D%0A++++++++if+old_name+in+namelist%3A%0D%0A++++++++++++item_number+%3D+namelist.index(old_name)%0D%0A++++++++++++new_name+%3D+input(%22What+is+the+new+name%3A+%22)%0D%0A++++++++++++namelist%5Bitem_number%5D+%3D+new_name%0D%0A++++++++else%3A%0D%0A++++++++++++print(old_name,+%22was+not+found%22)%0D%0A+%0D%0Aprint(%22Goodbye%22)&origin=opt-frontend.js&cumulative=false&heapPrimitives=false&drawParentPointers=false&textReferences=false&showOnlyOutputs=false&py=3&rawInputLstJSON=%5B%222%22,%22kwj%22,%229%22%5D&curInstr=28&codeDivWidth=350&codeDivHeight=400\"> </iframe>"
     ],
     "language": "python",
     "metadata": {},
     "outputs": [
      {
       "html": [
        "<iframe width=\"800\" height=\"500\" frameborder=\"0\" src=\"http://pythontutor.com/iframe-embed.html#code=menu_item+%3D+0%0D%0Anamelist+%3D+%5B%5D%0D%0Awhile+menu_item+!%3D+9%3A%0D%0A++++print(%22--------------------%22)%0D%0A++++print(%221.+Print+the+list%22)%0D%0A++++print(%222.+Add+a+name+to+the+list%22)%0D%0A++++print(%223.+Remove+a+name+from+the+list%22)%0D%0A++++print(%224.+Change+an+item+in+the+list%22)%0D%0A++++print(%229.+Quit%22)%0D%0A++++menu_item+%3D+int(input(%22Pick+an+item+from+the+menu%3A+%22))%0D%0A++++if+menu_item+%3D%3D+1%3A%0D%0A++++++++current+%3D+0%0D%0A++++++++if+len(namelist)+%3E+0%3A%0D%0A++++++++++++while+current+%3C+len(namelist)%3A%0D%0A++++++++++++++++print(current,+%22.%22,+namelist%5Bcurrent%5D)%0D%0A++++++++++++++++current+%3D+current+%2B+1%0D%0A++++++++else%3A%0D%0A++++++++++++print(%22List+is+empty%22)%0D%0A++++elif+menu_item+%3D%3D+2%3A%0D%0A++++++++name+%3D+input(%22Type+in+a+name+to+add%3A+%22)%0D%0A++++++++namelist.append(name)%0D%0A++++elif+menu_item+%3D%3D+3%3A%0D%0A++++++++del_name+%3D+input(%22What+name+would+you+like+to+remove%3A+%22)%0D%0A++++++++if+del_name+in+namelist%3A%0D%0A++++++++++++%23+namelist.remove(del_name)+would+work+just+as+fine%0D%0A++++++++++++item_number+%3D+namelist.index(del_name)%0D%0A++++++++++++del+namelist%5Bitem_number%5D%0D%0A++++++++++++%23+The+code+above+only+removes+the+first+occurrence+of%0D%0A++++++++++++%23+the+name.++The+code+below+from+Gerald+removes+all.%0D%0A++++++++++++%23+while+del_name+in+namelist%3A%0D%0A++++++++++++%23+++++++item_number+%3D+namelist.index(del_name)%0D%0A++++++++++++%23+++++++del+namelist%5Bitem_number%5D%0D%0A++++++++else%3A%0D%0A++++++++++++print(del_name,+%22was+not+found%22)%0D%0A++++elif+menu_item+%3D%3D+4%3A%0D%0A++++++++old_name+%3D+input(%22What+name+would+you+like+to+change%3A+%22)%0D%0A++++++++if+old_name+in+namelist%3A%0D%0A++++++++++++item_number+%3D+namelist.index(old_name)%0D%0A++++++++++++new_name+%3D+input(%22What+is+the+new+name%3A+%22)%0D%0A++++++++++++namelist%5Bitem_number%5D+%3D+new_name%0D%0A++++++++else%3A%0D%0A++++++++++++print(old_name,+%22was+not+found%22)%0D%0A+%0D%0Aprint(%22Goodbye%22)&origin=opt-frontend.js&cumulative=false&heapPrimitives=false&drawParentPointers=false&textReferences=false&showOnlyOutputs=false&py=3&rawInputLstJSON=%5B%222%22,%22kwj%22,%229%22%5D&curInstr=28&codeDivWidth=350&codeDivHeight=400\"> </iframe>"
       ],
       "metadata": {},
       "output_type": "display_data",
       "text": [
        "<IPython.core.display.HTML at 0x31e5410>"
       ]
      }
     ],
     "prompt_number": 6
    },
    {
     "cell_type": "code",
     "collapsed": false,
     "input": [],
     "language": "python",
     "metadata": {},
     "outputs": []
    },
    {
     "cell_type": "code",
     "collapsed": false,
     "input": [],
     "language": "python",
     "metadata": {},
     "outputs": []
    },
    {
     "cell_type": "code",
     "collapsed": false,
     "input": [],
     "language": "python",
     "metadata": {},
     "outputs": []
    },
    {
     "cell_type": "code",
     "collapsed": false,
     "input": [],
     "language": "python",
     "metadata": {},
     "outputs": []
    },
    {
     "cell_type": "markdown",
     "metadata": {},
     "source": []
    },
    {
     "cell_type": "code",
     "collapsed": false,
     "input": [],
     "language": "python",
     "metadata": {},
     "outputs": []
    }
   ],
   "metadata": {}
  }
 ]
}