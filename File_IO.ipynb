{
 "metadata": {
  "name": "",
  "signature": "sha256:da6f739d0d1a67d1d64124c5137ec450ac579c2b1f68150778346ac9906cb0be"
 },
 "nbformat": 3,
 "nbformat_minor": 0,
 "worksheets": [
  {
   "cells": [
    {
     "cell_type": "markdown",
     "metadata": {},
     "source": [
      "   ##File I/O    [source](http://en.wikibooks.org/wiki/Non-Programmer%27s_Tutorial_for_Python_3/File_IO)"
     ]
    },
    {
     "cell_type": "code",
     "collapsed": false,
     "input": [
      "# Write a file\n",
      "with open(\"test.txt\", \"wt\") as out_file:\n",
      "    out_file.write(\"This Text is going to out file\\nLook at it and see!\")\n",
      " \n",
      "# Read a file\n",
      "with open(\"test.txt\", \"rt\") as in_file:\n",
      "    text = in_file.read()\n",
      " \n",
      "print(text)\n",
      "\n",
      "out_file.close()\n",
      "in_file.close()"
     ],
     "language": "python",
     "metadata": {},
     "outputs": [
      {
       "output_type": "stream",
       "stream": "stdout",
       "text": [
        "This Text is going to out file\n",
        "Look at it and see!\n"
       ]
      }
     ],
     "prompt_number": 6
    },
    {
     "cell_type": "code",
     "collapsed": false,
     "input": [],
     "language": "python",
     "metadata": {},
     "outputs": []
    },
    {
     "cell_type": "code",
     "collapsed": false,
     "input": [
      "def print_numbers(numbers):\n",
      "    print(\"Telephone Numbers:\")\n",
      "    for k, v in numbers.items():\n",
      "        print(\"Name:\", k, \"\\tNumber:\", v)\n",
      "    print()\n",
      " \n",
      "def add_number(numbers, name, number):\n",
      "    numbers[name] = number\n",
      " \n",
      "def lookup_number(numbers, name):\n",
      "    if name in numbers:\n",
      "        return \"The number is \" + numbers[name]\n",
      "    else:\n",
      "        return name + \" was not found\"\n",
      " \n",
      "def remove_number(numbers, name):\n",
      "    if name in numbers:\n",
      "        del numbers[name]\n",
      "    else:\n",
      "        print(name,\" was not found\")\n",
      " \n",
      "def load_numbers(numbers, filename):\n",
      "    in_file = open(filename, \"rt\")\n",
      "    while True:\n",
      "        in_line = in_file.readline()\n",
      "        if not in_line:\n",
      "            break\n",
      "        in_line = in_line[:-1]\n",
      "        name, number = in_line.split(\",\")\n",
      "        numbers[name] = number\n",
      "    in_file.close()\n",
      " \n",
      "def save_numbers(numbers, filename):\n",
      "    out_file = open(filename, \"wt\")\n",
      "    for k, v in numbers.items():\n",
      "        out_file.write(k + \",\" + v + \"\\n\")\n",
      "    out_file.close()\n",
      " \n",
      "def print_menu():\n",
      "    print('1. Print Phone Numbers')\n",
      "    print('2. Add a Phone Number')\n",
      "    print('3. Remove a Phone Number')\n",
      "    print('4. Lookup a Phone Number')\n",
      "    print('5. Load numbers')\n",
      "    print('6. Save numbers')\n",
      "    print('7. Quit')\n",
      "    print()\n",
      " \n",
      "phone_list = {}\n",
      "menu_choice = 0\n",
      "print_menu()\n",
      "while True:\n",
      "    menu_choice = int(input(\"Type in a number (1-7): \"))\n",
      "    if menu_choice == 1:\n",
      "        print_numbers(phone_list)\n",
      "    elif menu_choice == 2:\n",
      "        print(\"Add Name and Number\")\n",
      "        name = input(\"Name: \")\n",
      "        phone = input(\"Number: \")\n",
      "        add_number(phone_list, name, phone)\n",
      "    elif menu_choice == 3:\n",
      "        print(\"Remove Name and Number\")\n",
      "        name = input(\"Name: \")\n",
      "        remove_number(phone_list, name)\n",
      "    elif menu_choice == 4:\n",
      "        print(\"Lookup Number\")\n",
      "        name = input(\"Name: \")\n",
      "        print(lookup_number(phone_list, name))\n",
      "    elif menu_choice == 5:\n",
      "        filename = input(\"Filename to load: \")\n",
      "        load_numbers(phone_list, filename)\n",
      "    elif menu_choice == 6:\n",
      "        filename = input(\"Filename to save: \")\n",
      "        save_numbers(phone_list, filename)\n",
      "    elif menu_choice == 7:\n",
      "        break\n",
      "    else:\n",
      "        print_menu()\n",
      " \n",
      "print(\"Goodbye\")"
     ],
     "language": "python",
     "metadata": {},
     "outputs": [
      {
       "output_type": "stream",
       "stream": "stdout",
       "text": [
        "1. Print Phone Numbers\n",
        "2. Add a Phone Number\n",
        "3. Remove a Phone Number\n",
        "4. Lookup a Phone Number\n",
        "5. Load numbers\n",
        "6. Save numbers\n",
        "7. Quit\n",
        "\n"
       ]
      },
      {
       "name": "stdout",
       "output_type": "stream",
       "stream": "stdout",
       "text": [
        "Type in a number (1-7): 2\n"
       ]
      }
     ]
    },
    {
     "cell_type": "code",
     "collapsed": false,
     "input": [],
     "language": "python",
     "metadata": {},
     "outputs": []
    },
    {
     "cell_type": "code",
     "collapsed": false,
     "input": [],
     "language": "python",
     "metadata": {},
     "outputs": []
    },
    {
     "cell_type": "code",
     "collapsed": false,
     "input": [],
     "language": "python",
     "metadata": {},
     "outputs": []
    }
   ],
   "metadata": {}
  }
 ]
}